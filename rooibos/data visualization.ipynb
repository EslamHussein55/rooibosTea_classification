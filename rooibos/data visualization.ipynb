{
 "cells": [
  {
   "cell_type": "markdown",
   "id": "3e241aa1-8270-470d-9ad0-d22eb606b73b",
   "metadata": {},
   "source": [
    "## Introduction"
   ]
  },
  {
   "cell_type": "markdown",
   "id": "5113c63b-88d3-4906-bad8-feb038bab0d5",
   "metadata": {
    "tags": []
   },
   "source": [
    "Welcome!, this tut will show you how to visualise Rooibos tea data, using python. the tut will give you an expousre in the following:\n",
    "\n",
    " - how to read data from an excel file\n",
    " - how to use dataframes (pandas package)\n",
    " - how to visualise fermented and unfermented rooibos tea using histograms\n",
    " - how to use google\n",
    " "
   ]
  },
  {
   "cell_type": "markdown",
   "id": "270dec3d-039e-4cad-aee9-643ea66d1b8c",
   "metadata": {},
   "source": [
    "Now let us start"
   ]
  },
  {
   "cell_type": "markdown",
   "id": "1eed4a45-f934-4f23-a28a-c293fefab38d",
   "metadata": {},
   "source": [
    "first let us call some packeges that will help us during the tut"
   ]
  },
  {
   "cell_type": "code",
   "execution_count": 1,
   "id": "41d9372a-528e-4919-887c-5742fcdfaa30",
   "metadata": {},
   "outputs": [],
   "source": [
    "import pandas as pd # import panda package, and we call it pd. (saves the data as a data frame fromat)\n",
    "import seaborn as sns # this package will be use to draw some usful graphs (like bar graphs)\n",
    "\n"
   ]
  },
  {
   "cell_type": "markdown",
   "id": "98d74e61-f031-42d9-aa4c-72165d7b377c",
   "metadata": {},
   "source": [
    "The following code does the following:\n",
    "- read a data from a CSV file\n",
    "- coverts the csv file formar into a "
   ]
  },
  {
   "cell_type": "code",
   "execution_count": 4,
   "id": "1084fd66-094c-491a-ab6b-789c7ffe87c7",
   "metadata": {},
   "outputs": [],
   "source": [
    "df_fer = pd.read_excel('data/orig.xlsx',  sheet_name='fer') # change the directory\n",
    "# df_fer ~ data frame fermented\n",
    "df_nf = pd.read_excel('data/orig.xlsx',  sheet_name='nonfer') # change the directory\n",
    "# df_fer ~ data frame non-fermented\n",
    "\n",
    "# Notice: \n",
    "    # both fer/nf can be found in the same excel sheet \"orig.xlsx\", but the sheet name is different"
   ]
  },
  {
   "cell_type": "markdown",
   "id": "92089fc7-76d0-4c90-a772-69876a7832f1",
   "metadata": {},
   "source": [
    "Now let us viualise the fermented an non fermented data"
   ]
  },
  {
   "cell_type": "code",
   "execution_count": 5,
   "id": "23ea49f0-cf2c-453c-baa7-7aba866e7ee7",
   "metadata": {},
   "outputs": [
    {
     "name": "stdout",
     "output_type": "stream",
     "text": [
      "   type      F-MEOH      A1-MEOH      A2-MEOH   F-H2O   A1-H2O  A2-H2O cut\n",
      "0     0  275.767474  2821.888864  1180.778887  314.33  2588.61  584.61  FC\n",
      "1     0  253.494375  2355.706326   647.096605  331.41  2818.87  589.91  LL\n",
      "2     0  255.307044  2182.134125   729.411993  269.64  2432.14  551.30  LL\n",
      "3     0  275.360573  2469.683915   842.797272  210.76  1979.52  402.41  LL\n",
      "4     0  303.070769  2546.362880   905.330599  199.87  1865.86  365.39  LL\n"
     ]
    }
   ],
   "source": [
    "print(df_nf.head(5)) # shows the 1st 5 rows of the data frame (nonfermented data)\n"
   ]
  },
  {
   "cell_type": "code",
   "execution_count": 6,
   "id": "bd1870e9-4e27-4eaa-9d93-bd685a36d2ce",
   "metadata": {},
   "outputs": [
    {
     "name": "stdout",
     "output_type": "stream",
     "text": [
      "   type       F-H2O       A1-H2O       A2-H2O      F-MEOH      A1-MEOH  \\\n",
      "0     1  457.982012  3791.630281  1053.209972  257.631541  2063.016672   \n",
      "1     1  339.713588  2825.660880   627.777353  266.472210  2103.093927   \n",
      "2     1  348.809862  3363.905754   657.584108  251.443587  2052.680936   \n",
      "3     1  221.543574  2000.789922   360.611685  250.451620  1963.529348   \n",
      "4     1  347.776623  3024.878290   730.545849  240.960000  1950.643883   \n",
      "\n",
      "      A2-MEOH cut  \n",
      "0  829.673865  RS  \n",
      "1  627.469976  RS  \n",
      "2  892.081366  RS  \n",
      "3  662.888570  RS  \n",
      "4  548.189385  RS  \n"
     ]
    }
   ],
   "source": [
    "print(df_fer.head(5)) # shows the 1st 5 rows of the data frame (fermented data)\n"
   ]
  },
  {
   "cell_type": "markdown",
   "id": "a604f75b-335d-44ec-a118-eeb5517d3dac",
   "metadata": {},
   "source": [
    "now to show the size of each data sample"
   ]
  },
  {
   "cell_type": "code",
   "execution_count": 7,
   "id": "90bee1b3-6764-4245-a75c-95d543ad77ce",
   "metadata": {},
   "outputs": [
    {
     "name": "stdout",
     "output_type": "stream",
     "text": [
      "the shape of the nonfermented data:(47, 8)\n",
      "where 47 is the rows\n",
      "where 8 is the col\n"
     ]
    }
   ],
   "source": [
    "# for nonfermented\n",
    "print(\"the shape of the nonfermented data:\"+str(df_nf.shape) ) \n",
    "# this line \"df_fer.shape\" produces a tuple of 2 number, we can access them as follows: \n",
    "print(\"where \" + str(df_nf.shape[0]) +\" is the rows\")\n",
    "print(\"where \" + str(df_nf.shape[1]) +\" is the col\")"
   ]
  },
  {
   "cell_type": "code",
   "execution_count": 8,
   "id": "6fbe1a4c-c371-45f8-873c-9c05c7a58e9b",
   "metadata": {},
   "outputs": [],
   "source": [
    "# Now please do the same on the fermented data\n",
    "\n",
    "#  ___ code here ____\n",
    "\n",
    "\n"
   ]
  },
  {
   "cell_type": "markdown",
   "id": "b61192ed-dff7-452d-9547-7c60cdd76368",
   "metadata": {},
   "source": [
    "<img src=\"pics/roo.jpg\" width=\"500\" height=\"250\">\n"
   ]
  },
  {
   "cell_type": "markdown",
   "id": "0355e433-2f36-46db-b591-5b5bbae34735",
   "metadata": {},
   "source": [
    "each dataframe (fer/nf) has 8 variables, which can be explained as follows:\n",
    "-  type: which is a catagorical number, we have two types \"Nonfermented = 0\"/ \"Fermented = 1\"\n",
    "#### Water Extract\n",
    "- F-H2O: a continuous number, F stands for phenolics and H2O stands for water extract. which means the phenolic content was extracted using water\n",
    "- A1-H2O : a continuous number, A1 is a symbol for TEACK which is type of antioxidant activity, H20 again because the extract was water \n",
    "- A2-H2O : a continuous number, A2 is a symbol for FRAP which is a type of antioxidant activity. \n",
    "#### Methanol extract\n",
    "- F-MEOH: a continuous number, F stands for phenolics and methanol stands for water extract. which means the phenolic content was extracted using methanol\n",
    "- A1-MEOH : a continuous number, A1 is a symbol for Teac which is a type of antioxidant activity, MEOH again because the extract was methanol \n",
    "- A2-MEOH : a continuous number, A2 is a symbol for FRAP which is a type of antioxidant activity. \n",
    "\n",
    "- cut: Catagorical value, just shows the the cut of the rooibos (not importnat)"
   ]
  },
  {
   "cell_type": "markdown",
   "id": "d232c44a-05d7-43d3-add6-e7d353b4556b",
   "metadata": {},
   "source": [
    "#### after explaining the variables, we notice that the names of the variables are not ideal, how about we change them."
   ]
  },
  {
   "cell_type": "markdown",
   "id": "d909a7ed-11a6-4494-95ad-790df8a4c33d",
   "metadata": {},
   "source": [
    "Now let us go to goole and ask, how to change this. beacuse cuurently I dont have the code memorized inside my head."
   ]
  },
  {
   "cell_type": "markdown",
   "id": "49bdf275-cc42-47d8-b740-21bcc5c947e5",
   "metadata": {},
   "source": [
    "<img src=\"pics/google.png\" width=\"400\" height=\"200\">\n"
   ]
  },
  {
   "cell_type": "markdown",
   "id": "bb210476-814a-4136-aa05-c32ad548efc3",
   "metadata": {},
   "source": [
    "Searching the following term\n",
    " ##### \"how to change columns names in pandas\""
   ]
  },
  {
   "cell_type": "markdown",
   "id": "2f49a0b9-a03a-4d89-b71a-919048015938",
   "metadata": {},
   "source": [
    "# let us check the following link\n",
    " - https://stackoverflow.com/questions/11346283/renaming-column-names-in-pandas\n",
    " - the principle is that you keep trying untill you get it, but dont worry things will get easier with time"
   ]
  },
  {
   "cell_type": "code",
   "execution_count": 9,
   "id": "6ef36a24-deb3-4c93-b64d-64ec59ad1015",
   "metadata": {},
   "outputs": [],
   "source": [
    "# df.rename({'$a':'a', '$b':'b', '$c':'c', '$d':'d', '$e':'e'}, axis='columns')\n",
    "# let us try the above line of code, adjust it first , and see whether it work or not\n",
    "\n",
    "df_nf = df_nf.rename({'F-H2O':'TPC_H2O', 'A1-H2O':'TEAC_H2O', 'A2-H2O':'FRAP_H2O',\n",
    "                      'F-MEOH':'TPC_MEOH', 'A1-MEOH':'TEAC_MEOH', 'A2-MEOH':'FRAP_MEOH'}, axis='columns')\n",
    "# Notice: you need to re-assign the data frame to it self for you to save the changes\n",
    "\n",
    "df_fer = df_fer.rename({'F-H2O':'TPC_H2O', 'A1-H2O':'TEAC_H2O', 'A2-H2O':'FRAP_H2O',\n",
    "                      'F-MEOH':'TPC_MEOH', 'A1-MEOH':'TEAC_MEOH', 'A2-MEOH':'FRAP_MEOH'}, axis='columns')"
   ]
  },
  {
   "cell_type": "code",
   "execution_count": 10,
   "id": "cec6ff63-eaf7-4ad8-9d36-c816892c103e",
   "metadata": {},
   "outputs": [
    {
     "name": "stdout",
     "output_type": "stream",
     "text": [
      "   type    TPC_MEOH    TEAC_MEOH    FRAP_MEOH  TPC_H2O  TEAC_H2O  FRAP_H2O cut\n",
      "0     0  275.767474  2821.888864  1180.778887   314.33   2588.61    584.61  FC\n",
      "1     0  253.494375  2355.706326   647.096605   331.41   2818.87    589.91  LL\n",
      "2     0  255.307044  2182.134125   729.411993   269.64   2432.14    551.30  LL\n",
      "\n",
      "   type     TPC_H2O     TEAC_H2O     FRAP_H2O    TPC_MEOH    TEAC_MEOH  \\\n",
      "0     1  457.982012  3791.630281  1053.209972  257.631541  2063.016672   \n",
      "1     1  339.713588  2825.660880   627.777353  266.472210  2103.093927   \n",
      "2     1  348.809862  3363.905754   657.584108  251.443587  2052.680936   \n",
      "\n",
      "    FRAP_MEOH cut  \n",
      "0  829.673865  RS  \n",
      "1  627.469976  RS  \n",
      "2  892.081366  RS  \n"
     ]
    }
   ],
   "source": [
    "print(df_nf.head(3))\n",
    "print()\n",
    "print(df_fer.head(3))"
   ]
  },
  {
   "cell_type": "markdown",
   "id": "357619e9-6089-4d5d-8bf9-3a1d8048f5b1",
   "metadata": {},
   "source": [
    "Now let us visualize the data using hist graphs"
   ]
  },
  {
   "cell_type": "markdown",
   "id": "8604ad2b-fda6-4d05-b49c-ddef4b5f1b51",
   "metadata": {},
   "source": [
    "### Concat two dataframes\n",
    "To make our live easier during visualisation, let us try to concat the to data frames together (nf/fer)."
   ]
  },
  {
   "cell_type": "code",
   "execution_count": 11,
   "id": "e433f45a-d83a-4c41-8871-8a25641e3b21",
   "metadata": {},
   "outputs": [],
   "source": [
    "frames = [df_nf, df_fer]\n",
    "df = pd.concat(frames, ignore_index=True)\n"
   ]
  },
  {
   "cell_type": "code",
   "execution_count": 12,
   "id": "4838a276-9cf0-4307-aa65-5007da4bcb4e",
   "metadata": {},
   "outputs": [
    {
     "name": "stdout",
     "output_type": "stream",
     "text": [
      "    type    TPC_MEOH    TEAC_MEOH    FRAP_MEOH     TPC_H2O     TEAC_H2O  \\\n",
      "0      0  275.767474  2821.888864  1180.778887  314.330000  2588.610000   \n",
      "1      0  253.494375  2355.706326   647.096605  331.410000  2818.870000   \n",
      "2      0  255.307044  2182.134125   729.411993  269.640000  2432.140000   \n",
      "3      0  275.360573  2469.683915   842.797272  210.760000  1979.520000   \n",
      "4      0  303.070769  2546.362880   905.330599  199.870000  1865.860000   \n",
      "5      0  208.467416  2328.589410  1026.923101  340.020000  2860.030000   \n",
      "6      0  240.781730  2218.889808   778.735748  253.060000  2272.900000   \n",
      "7      0  344.924530  2647.415681   878.163675  345.480000  3061.200000   \n",
      "8      0  312.617225  2289.549736   845.293529  380.620000  3150.030000   \n",
      "9      0  283.600633  2492.641528   957.291769  273.960000  2309.360000   \n",
      "10     0  342.938849  2591.051757  1245.695080  433.100000  3549.770000   \n",
      "11     0  315.600775  2229.834957   823.860285  285.150000  2415.170000   \n",
      "12     0  402.884777  2519.483656   783.270343  220.860000  1975.140000   \n",
      "13     0  263.242158  2292.523766   708.509370  274.080000  2197.890000   \n",
      "14     0  281.495557  2396.977083   885.732103  353.810000  2921.940000   \n",
      "15     0  381.092288  2712.006779   995.211274  206.390000  2128.290000   \n",
      "16     0  311.894112  2214.717612   706.039938  200.240000  1716.300000   \n",
      "17     0  276.641617  2200.060712  1065.666537  286.230000  2468.690000   \n",
      "18     0  393.173868  1826.699864   585.304335  231.680000  2054.260000   \n",
      "19     0  384.053004  2234.343734   650.001312  364.870000  3172.040000   \n",
      "20     0  414.295757  2779.153641  1161.274047  209.980000  1797.830000   \n",
      "21     0  306.099611  2629.201869  1047.775571  385.720000  3257.670000   \n",
      "22     0  266.703612  2615.610643   940.874088  333.500000  2603.270000   \n",
      "23     0  219.083735  2391.664974   732.590456  341.570000  2928.480000   \n",
      "24     0  284.330138  2410.977072   680.736212  207.750000  1755.430000   \n",
      "25     0  234.772473  2338.224892   764.238471  271.460000  2409.360000   \n",
      "26     0  279.017956  2294.927298   748.931970  274.700000  2172.620000   \n",
      "27     0  288.026248  2666.731963   857.129429  374.530000  3049.560000   \n",
      "28     0  297.840325  2339.723063   805.616052  244.470000  1924.590000   \n",
      "29     0  284.123480  2653.967180   904.972960  334.300000  2681.770000   \n",
      "30     0  295.688299  2283.039235   823.780326  302.620000  2712.690000   \n",
      "31     0  367.126656  2587.746918  1015.717519  179.040000  1760.940000   \n",
      "32     0  395.940882  2739.497442  1220.631521  231.960000  2118.800000   \n",
      "33     0  357.063010  2544.424640   949.927053  335.380000  2990.290000   \n",
      "34     0  325.330008  2306.786741   925.567991  179.310000  1672.300000   \n",
      "35     0  331.570711  2386.880873   978.636623  208.950000  1866.380000   \n",
      "36     0  324.521896  2555.538655   960.497261  303.330000  2742.990000   \n",
      "37     0  308.849121  2224.450070   916.626831  232.150000  2221.840000   \n",
      "38     0  335.094315  2438.115672   962.096945  259.850000  2321.980000   \n",
      "39     0  304.068314  2404.893298   925.574220  310.910000  2787.590000   \n",
      "40     0  281.017352  2327.802869   823.211418  261.520000  2324.600000   \n",
      "41     0  265.003528  2575.373721  1177.232227  216.500000  1961.340000   \n",
      "42     0  363.079063  2505.134346   972.071852  273.690000  2433.780000   \n",
      "43     0  310.298106  2309.382633   842.976612  315.690000  2655.180000   \n",
      "44     0  244.626922  1954.413798   645.499415  264.190000  2294.520000   \n",
      "45     0  215.835307  2250.341794   762.010361  322.180000  2685.590000   \n",
      "46     0  219.428595  2721.982349  1473.893269  307.330000  2779.100000   \n",
      "47     1  257.631541  2063.016672   829.673865  457.982012  3791.630281   \n",
      "48     1  266.472210  2103.093927   627.469976  339.713588  2825.660880   \n",
      "49     1  251.443587  2052.680936   892.081366  348.809862  3363.905754   \n",
      "\n",
      "       FRAP_H2O cut  \n",
      "0    584.610000  FC  \n",
      "1    589.910000  LL  \n",
      "2    551.300000  LL  \n",
      "3    402.410000  LL  \n",
      "4    365.390000  LL  \n",
      "5    595.240000  LL  \n",
      "6    509.400000  LL  \n",
      "7    773.210000  LL  \n",
      "8    710.760000  LL  \n",
      "9    521.870000  LL  \n",
      "10   949.900000  LL  \n",
      "11   556.070000  LL  \n",
      "12   473.360000  LL  \n",
      "13   505.010000  FC  \n",
      "14   644.540000  FC  \n",
      "15   407.120000  FC  \n",
      "16   380.720000  FC  \n",
      "17   556.710000  FC  \n",
      "18   430.500000  FC  \n",
      "19   718.540000  FC  \n",
      "20   386.350000  FC  \n",
      "21   691.100000  FC  \n",
      "22   601.020000  FC  \n",
      "23   683.950000  FC  \n",
      "24   386.240000  FC  \n",
      "25   570.220000  FC  \n",
      "26   532.410000  FC  \n",
      "27   754.600000  PL  \n",
      "28   414.310000  PS  \n",
      "29   609.380000  PS  \n",
      "30   646.200000  PS  \n",
      "31   415.660000  PS  \n",
      "32   437.460000  PS  \n",
      "33   576.870000  PS  \n",
      "34   338.900000  PS  \n",
      "35   414.350000  PS  \n",
      "36   437.460000  PS  \n",
      "37   468.380000  PS  \n",
      "38   521.960000  PS  \n",
      "39   637.670000  PS  \n",
      "40   471.830000  PS  \n",
      "41   377.060000  PS  \n",
      "42   544.730000  FC  \n",
      "43   538.320000  LL  \n",
      "44   493.960000  LL  \n",
      "45   597.620000  PS  \n",
      "46   548.350000  PL  \n",
      "47  1053.209972  RS  \n",
      "48   627.777353  RS  \n",
      "49   657.584108  RS  \n",
      "(98, 8)\n"
     ]
    }
   ],
   "source": [
    "print(df.head(50))\n",
    "print(df.shape)"
   ]
  },
  {
   "cell_type": "markdown",
   "id": "463d2353-fe39-492a-ac6a-9e15ca9b8290",
   "metadata": {},
   "source": [
    "### Now let us do some histogrames"
   ]
  },
  {
   "cell_type": "code",
   "execution_count": 13,
   "id": "f37fb124-b741-43a0-a859-6b5ea1c72ea1",
   "metadata": {},
   "outputs": [
    {
     "data": {
      "text/plain": [
       "<matplotlib.axes._subplots.AxesSubplot at 0x7f6b9ca18b80>"
      ]
     },
     "execution_count": 13,
     "metadata": {},
     "output_type": "execute_result"
    },
    {
     "data": {
      "image/png": "[encoded data removed]",
      "text/plain": [
       "<Figure size 432x288 with 1 Axes>"
      ]
     },
     "metadata": {
      "needs_background": "light"
     },
     "output_type": "display_data"
    }
   ],
   "source": [
    "sns.histplot(data=df, x=\"TEAC_MEOH\", hue=\"type\", multiple=\"dodge\", shrink=.8)\n"
   ]
  },
  {
   "cell_type": "markdown",
   "id": "7707522d-e20b-4358-8b56-890aab539d3b",
   "metadata": {},
   "source": [
    " - nonfermented (Orange) is a left skewed histogram\n",
    " - fermented (blue) left skewed, or a biomodel distribution"
   ]
  },
  {
   "cell_type": "code",
   "execution_count": 14,
   "id": "2da95822-cef0-414e-aec6-4313d1d466ed",
   "metadata": {},
   "outputs": [
    {
     "data": {
      "text/plain": [
       "<matplotlib.axes._subplots.AxesSubplot at 0x7f6b9bf0d850>"
      ]
     },
     "execution_count": 14,
     "metadata": {},
     "output_type": "execute_result"
    },
    {
     "data": {
      "image/png": "[encoded data removed]",
      "text/plain": [
       "<Figure size 432x288 with 1 Axes>"
      ]
     },
     "metadata": {
      "needs_background": "light"
     },
     "output_type": "display_data"
    }
   ],
   "source": [
    "sns.histplot(data=df, x=\"TPC_MEOH\", hue=\"type\", multiple=\"dodge\", shrink=.8)\n"
   ]
  },
  {
   "cell_type": "markdown",
   "id": "8a6222cf-9be4-4f55-aead-6559a2ceb5a3",
   "metadata": {},
   "source": [
    " - nonfermented (Orange) is a left skewed histogram\n",
    " - fermented (blue) has a unimodel distribution with a large varince (the data is spread out)"
   ]
  },
  {
   "cell_type": "code",
   "execution_count": 15,
   "id": "586f59b3-ef61-4158-ac5c-3387bd67ac9d",
   "metadata": {},
   "outputs": [
    {
     "data": {
      "text/plain": [
       "<matplotlib.axes._subplots.AxesSubplot at 0x7f6b9bf37340>"
      ]
     },
     "execution_count": 15,
     "metadata": {},
     "output_type": "execute_result"
    },
    {
     "data": {
      "image/png": "[encoded data removed]",
      "text/plain": [
       "<Figure size 432x288 with 1 Axes>"
      ]
     },
     "metadata": {
      "needs_background": "light"
     },
     "output_type": "display_data"
    }
   ],
   "source": [
    "sns.histplot(data=df, x=\"FRAP_MEOH\", hue=\"type\", multiple=\"dodge\", shrink=.8)\n"
   ]
  },
  {
   "cell_type": "markdown",
   "id": "da2d1ecb-ca51-44d2-a2f5-7b26fd33c72c",
   "metadata": {},
   "source": [
    " - nonfermented (Orange) is a right skewed histogram\n",
    " - fermented (blue) has a unimodel distribution"
   ]
  },
  {
   "cell_type": "markdown",
   "id": "1ceb3238-5ea5-40fd-901c-cb4e04f91e57",
   "metadata": {},
   "source": [
    "### now do it for the water extract"
   ]
  },
  {
   "cell_type": "code",
   "execution_count": 16,
   "id": "8f8f216d-f6ca-44dd-b621-f09f3f96fc95",
   "metadata": {},
   "outputs": [],
   "source": [
    "#-------  Code here (TPC) -----------"
   ]
  },
  {
   "cell_type": "code",
   "execution_count": 17,
   "id": "e90ff50e-303e-4a3a-901f-1b2931ac02c4",
   "metadata": {},
   "outputs": [],
   "source": [
    "#-------  Code here (TEAC) -----------"
   ]
  },
  {
   "cell_type": "code",
   "execution_count": 18,
   "id": "07f1a154-217e-48d8-824f-7ceaf9d5e8ff",
   "metadata": {},
   "outputs": [],
   "source": [
    "#-------  Code here (FRAP) -----------"
   ]
  },
  {
   "cell_type": "code",
   "execution_count": 19,
   "id": "05c34425-9076-4eeb-a988-87bc1f852940",
   "metadata": {},
   "outputs": [],
   "source": [
    "import numpy as np"
   ]
  },
  {
   "cell_type": "markdown",
   "id": "d06223be-59cb-4c53-b917-1bcb0a046940",
   "metadata": {},
   "source": [
    "### Now let us save the data so we can call it again in another notebook"
   ]
  },
  {
   "cell_type": "code",
   "execution_count": 20,
   "id": "e4fdc428-336d-4aa0-82c5-beb9f60ba403",
   "metadata": {},
   "outputs": [
    {
     "name": "stdout",
     "output_type": "stream",
     "text": [
      "Stored 'df_nf' (DataFrame)\n",
      "Stored 'df_fer' (DataFrame)\n",
      "Stored 'df' (DataFrame)\n"
     ]
    }
   ],
   "source": [
    "%store df_nf\n",
    "%store df_fer\n",
    "%store df"
   ]
  },
  {
   "cell_type": "code",
   "execution_count": null,
   "id": "94186c32-1d33-435a-a681-9c5ecc50223e",
   "metadata": {},
   "outputs": [],
   "source": []
  }
 ],
 "metadata": {
  "kernelspec": {
   "display_name": "Python 3",
   "language": "python",
   "name": "python3"
  },
  "language_info": {
   "codemirror_mode": {
    "name": "ipython",
    "version": 3
   },
   "file_extension": ".py",
   "mimetype": "text/x-python",
   "name": "python",
   "nbconvert_exporter": "python",
   "pygments_lexer": "ipython3",
   "version": "3.8.3"
  }
 },
 "nbformat": 4,
 "nbformat_minor": 5
}
