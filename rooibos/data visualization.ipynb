{
 "cells": [
  {
   "cell_type": "markdown",
   "id": "3e241aa1-8270-470d-9ad0-d22eb606b73b",
   "metadata": {},
   "source": [
    "## Introduction"
   ]
  },
  {
   "cell_type": "markdown",
   "id": "5113c63b-88d3-4906-bad8-feb038bab0d5",
   "metadata": {
    "tags": []
   },
   "source": [
    "Welcome!, this tutorial will show you how to visualise biochemical assay data from rooibos tea varieties using python. From this tutorial you will learn:\n",
    "\n",
    " - how to read data into python from an Excel file\n",
    " - how to use dataframes (pandas package)\n",
    " - how to visualise and compare biochemical properties of fermented and unfermented rooibos teas  using histograms\n",
    " - how to use Google to overcome programming challenges\n",
    "\n",
    "Let's get started! First let's import the python packages we'll need to load and visualize our data.\n",
    "\n",
    "_Note_ that you will need to run all the cells in the notebook in order for it to work properly. The best way to do this is run them one by one.  Try to understand what each cell is doing when you run it. In some cells, you will have to write or modify code--just follow the instructions.  "
   ]
  },
  {
   "cell_type": "code",
   "execution_count": 8,
   "id": "41d9372a-528e-4919-887c-5742fcdfaa30",
   "metadata": {},
   "outputs": [],
   "source": [
    "import pandas as pd # for importing data into data frame format\n",
    "import seaborn as sns # For drawing useful graphs, such as bar graphs\n",
    "from matplotlib.pyplot import show # This displays graphs once they have been created\n",
    "\n",
    "# The above statements define the prefixes 'pd' and 'sns' which will be used to identify\n",
    "# pandas and seaborn functions respectively in the following code."
   ]
  },
  {
   "cell_type": "markdown",
   "id": "98d74e61-f031-42d9-aa4c-72165d7b377c",
   "metadata": {},
   "source": [
    "<b><i> Reading in data </i></b> \n",
    "\n",
    "The following code does the following:\n",
    "- reads data from an Excel file\n",
    "- converts the Excel file format into a Pandas dataframe "
   ]
  },
  {
   "cell_type": "code",
   "execution_count": 9,
   "id": "1084fd66-094c-491a-ab6b-789c7ffe87c7",
   "metadata": {},
   "outputs": [],
   "source": [
    "df_fer = pd.read_excel('data/orig.xlsx',  sheet_name='fer') # change the directory as needed\n",
    "# df_fer ~ data frame with data from fermented rooibos samples\n",
    "\n",
    "# 'header=2' in the following is used because the data begins on the third line of the sheet\n",
    "df_nf = pd.read_excel('data/orig.xlsx', header=2, sheet_name='nonfer') # change the directory as needed\n",
    "# df_nf ~ data frame with nonfermented rooibos samples\n",
    "\n",
    "## Note that both fer/nf are from the same excel file \"orig.xlsx\", but on different sheets "
   ]
  },
  {
   "cell_type": "markdown",
   "id": "92089fc7-76d0-4c90-a772-69876a7832f1",
   "metadata": {},
   "source": [
    "<b><i> Examining data </i></b> \n",
    "\n",
    "First let's take a look at the raw fermented and non-fermented data."
   ]
  },
  {
   "cell_type": "code",
   "execution_count": 10,
   "id": "23ea49f0-cf2c-453c-baa7-7aba866e7ee7",
   "metadata": {},
   "outputs": [
    {
     "name": "stdout",
     "output_type": "stream",
     "text": [
      "   type      F-MEOH      A1-MEOH      A2-MEOH   F-H2O   A1-H2O  A2-H2O cut\n",
      "0     0  275.767474  2821.888864  1180.778887  314.33  2588.61  584.61  FC\n",
      "1     0  253.494375  2355.706326   647.096605  331.41  2818.87  589.91  LL\n",
      "2     0  255.307044  2182.134125   729.411993  269.64  2432.14  551.30  LL\n",
      "3     0  275.360573  2469.683915   842.797272  210.76  1979.52  402.41  LL\n",
      "4     0  303.070769  2546.362880   905.330599  199.87  1865.86  365.39  LL\n"
     ]
    }
   ],
   "source": [
    "print(df_nf.head(5)) # shows the first 5 rows of the data frame (nonfermented data)\n"
   ]
  },
  {
   "cell_type": "code",
   "execution_count": 11,
   "id": "bd1870e9-4e27-4eaa-9d93-bd685a36d2ce",
   "metadata": {},
   "outputs": [],
   "source": [
    "# Your turn!  Show the first 5 rows of the data frame that has fermented data. \n",
    "# (All you need to do is copy the code from the previous cell and change the\n",
    "# name of the data frame. Don't forget to run the cell after you've done this.)"
   ]
  },
  {
   "cell_type": "markdown",
   "id": "0355e433-2f36-46db-b591-5b5bbae34735",
   "metadata": {},
   "source": [
    "In both dataframes, the rows correspond to different tea samples, while the columns give the values of 8 variables, which can be explained as follows:\n",
    "-  type -- categorical variable denoting one of two types: nonfermented(0) or fermented(1)\n",
    "- F-H2O -- continuous variable: F stands for phenolics and H2O stands for water extract. which means the phenolic content was extracted using water as solvent\n",
    "- A1-H2O -- continuous variable: A1 is a symbol for TEAC which is measurement of antioxidant activity, H2O is the solvent as above \n",
    "- A2-H2O -- continuous variable: A2 is a symbol for FRAP which is a measurement of antioxidant activity, H2O is the solvent again \n",
    "- F-MEOH -- continuous variable: F stands for phenolics (as above), this time extracted using methanol (MEOH) as solvent instead of water\n",
    "- A1-MEOH -- continuous variable: as above A1 represents TEAC with MEOH as solvent\n",
    "- A2-MEOH -- continuous variable: A2 is for FRAP and MEOH is the solvent. \n",
    "- cut -- catagorical variable, indicating the cut of the rooibos (not of interest in this study)"
   ]
  },
  {
   "cell_type": "markdown",
   "id": "c9df7a0a",
   "metadata": {},
   "source": [
    "Now let's verify the number of samples in each dataset. We do this using the 'shape' attribute for data frames:"
   ]
  },
  {
   "cell_type": "code",
   "execution_count": 12,
   "id": "90bee1b3-6764-4245-a75c-95d543ad77ce",
   "metadata": {},
   "outputs": [
    {
     "name": "stdout",
     "output_type": "stream",
     "text": [
      "the shape of the nonfermented data is (47, 8)\n",
      "where 47 is the number of rows, and\n",
      "8 is the number of columns\n"
     ]
    }
   ],
   "source": [
    "# for nonfermented\n",
    "\n",
    "nf_sh = df_nf.shape # \"df_nf.shape\" produces a tuple of 2 numbers \n",
    "print(\"the shape of the nonfermented data is \"+str(nf_sh) ) \n",
    "\n",
    "# The individual numbers in the tuple are accessed as follows:\n",
    "print(\"where \" + str(nf_sh[0]) +\" is the number of rows, and\")\n",
    "print(str(nf_sh[1]) +\" is the number of columns\")"
   ]
  },
  {
   "cell_type": "code",
   "execution_count": 13,
   "id": "6fbe1a4c-c371-45f8-873c-9c05c7a58e9b",
   "metadata": {},
   "outputs": [],
   "source": [
    "# Now it's your turn! Please do the same for the fermented data\n",
    "# Make sure to change `nf` to `fer` in all of the variable names\n",
    "\n",
    "#  ___ code here ____\n",
    "\n",
    "\n"
   ]
  },
  {
   "cell_type": "markdown",
   "id": "b61192ed-dff7-452d-9547-7c60cdd76368",
   "metadata": {},
   "source": [
    "<img src=\"pics/roo.jpg\" width=\"500\" height=\"250\">\n"
   ]
  },
  {
   "cell_type": "markdown",
   "id": "d232c44a-05d7-43d3-add6-e7d353b4556b",
   "metadata": {},
   "source": [
    "<b><i>Renaming variables</i></b>: \n",
    "\n",
    "The variable names are rather obscure.  Let's change them to improve readability.  Unfortunately I don't remember how to do this--but all is not lost. We have at  our disposal one of the main keys to python programming success:  Google! "
   ]
  },
  {
   "cell_type": "markdown",
   "id": "49bdf275-cc42-47d8-b740-21bcc5c947e5",
   "metadata": {},
   "source": [
    "<img src=\"pics/google.png\" width=\"400\" height=\"200\">\n"
   ]
  },
  {
   "cell_type": "markdown",
   "id": "bb210476-814a-4136-aa05-c32ad548efc3",
   "metadata": {},
   "source": [
    "Just search for  `change columns names pandas`.  You will soon learn how to recognize good websites that will provide working code that you can copy, paste, and modify.  \n",
    "\n",
    "Fortunately one of the links that comes up is from 'Stackoverflow' which often gives valuable tips (and re-usable code). Here's the link:\n",
    "\n",
    " - https://stackoverflow.com/questions/11346283/renaming-column-names-in-pandas\n",
    "\n",
    "From here we may copy-paste the first line in the code below, then modify as needed."
   ]
  },
  {
   "cell_type": "code",
   "execution_count": 14,
   "id": "f6919489",
   "metadata": {},
   "outputs": [],
   "source": [
    "# Code from stackoverflow:\n",
    "# df.rename({'$a':'a', '$b':'b', '$c':'c', '$d':'d', '$e':'e'}, axis='columns')\n",
    "\n",
    "# let's modify the above line of code, and see whether it work or not\n",
    "\n",
    "df_nf = df_nf.rename({'F-H2O':'TPC_H2O', 'A1-H2O':'TEAC_H2O', 'A2-H2O':'FRAP_H2O',\n",
    "                      'F-MEOH':'TPC_MEOH', 'A1-MEOH':'TEAC_MEOH', 'A2-MEOH':'FRAP_MEOH'}, axis='columns')\n",
    "# Notice: you need to re-assign the data frame to itself for you to save the changes"
   ]
  },
  {
   "cell_type": "code",
   "execution_count": 15,
   "id": "6ef36a24-deb3-4c93-b64d-64ec59ad1015",
   "metadata": {},
   "outputs": [],
   "source": [
    "# Now it's your turn!  Rename the columns for the fermented dataframe. Use exactly the\n",
    "# same column names, because later on we will merge the data from both frames.\n",
    "# (your code here)"
   ]
  },
  {
   "cell_type": "markdown",
   "id": "2d7b9fbb",
   "metadata": {},
   "source": [
    "Let's check and see if the renaming worked as we expected:"
   ]
  },
  {
   "cell_type": "code",
   "execution_count": 16,
   "id": "cec6ff63-eaf7-4ad8-9d36-c816892c103e",
   "metadata": {},
   "outputs": [
    {
     "name": "stdout",
     "output_type": "stream",
     "text": [
      "Nonfermented data:\n",
      "   type    TPC_MEOH    TEAC_MEOH    FRAP_MEOH  TPC_H2O  TEAC_H2O  FRAP_H2O cut\n",
      "0     0  275.767474  2821.888864  1180.778887   314.33   2588.61    584.61  FC\n",
      "1     0  253.494375  2355.706326   647.096605   331.41   2818.87    589.91  LL\n",
      "2     0  255.307044  2182.134125   729.411993   269.64   2432.14    551.30  LL\n"
     ]
    }
   ],
   "source": [
    "# Print the first three lines of the nonfermented dataset\n",
    "print(\"Nonfermented data:\")\n",
    "print(df_nf.head(3))\n",
    "# Your turn!  Print an empty line, then print the first three lines of the fermented dataset\n",
    "# (your code here)"
   ]
  },
  {
   "cell_type": "markdown",
   "id": "357619e9-6089-4d5d-8bf9-3a1d8048f5b1",
   "metadata": {},
   "source": [
    "<b><i>Data concatenation into a single frame</i></b>: \n",
    "\n",
    "We're just about ready to visualize the data using histograms. For this purpose, it's easier to concatenate the two dataframes into a single frame."
   ]
  },
  {
   "cell_type": "code",
   "execution_count": 17,
   "id": "e433f45a-d83a-4c41-8871-8a25641e3b21",
   "metadata": {},
   "outputs": [],
   "source": [
    "frames = [df_nf, df_fer] # This is a list of the two frames to concatenate\n",
    "\n",
    "# 'df' is the name of the combined data frame\n",
    "df = pd.concat(frames, ignore_index=True) #'ignore_index' assigns a consecutive index to the rows\n"
   ]
  },
  {
   "cell_type": "code",
   "execution_count": 18,
   "id": "4838a276-9cf0-4307-aa65-5007da4bcb4e",
   "metadata": {},
   "outputs": [],
   "source": [
    "# Your turn! Display the first 50 lines of the concatenated frame 'df' \n",
    "# (use the 'head' command, as you did before) and then print the shape of df.\n",
    "# (your code here)"
   ]
  },
  {
   "cell_type": "markdown",
   "id": "463d2353-fe39-492a-ac6a-9e15ca9b8290",
   "metadata": {},
   "source": [
    "<b><i>Histograms</i></b>: \n",
    "\n",
    "At this point, we're ready to plot comparative histograms for the different variables. We want to compare non-fermented versus fermented, which is easy to do using Seaborn's 'histplot' command.\n",
    "\n",
    "If you have done the exercises correctly, you will have two series of bars (blue and orange) in the following plots."
   ]
  },
  {
   "cell_type": "code",
   "execution_count": 19,
   "id": "f37fb124-b741-43a0-a859-6b5ea1c72ea1",
   "metadata": {},
   "outputs": [
    {
     "data": {
      "image/png": "[encoded data removed]",
      "text/plain": [
       "<Figure size 432x288 with 1 Axes>"
      ]
     },
     "metadata": {
      "needs_background": "light"
     },
     "output_type": "display_data"
    }
   ],
   "source": [
    "sns.histplot(data=df, x=\"TEAC_MEOH\", hue=\"type\", multiple=\"dodge\", shrink=.8)\n",
    "show() # shows the plot"
   ]
  },
  {
   "cell_type": "markdown",
   "id": "7707522d-e20b-4358-8b56-890aab539d3b",
   "metadata": {},
   "source": [
    "From the histograms we may draw the following conclusions:\n",
    "\n",
    " - nonfermented (orange) is clearly left skewed.\n",
    " - fermented (blue) is somewhat less left skewed. The data appears to have two peaks (this is called \"bimodal\", but with more data it's quite likely that this effect would disappear."
   ]
  },
  {
   "cell_type": "markdown",
   "id": "aaa7b933",
   "metadata": {},
   "source": [
    "The histogram options in the previous code can be explained as follows:\n",
    "\n",
    "`sns.histplot(data=df, x=\"TEAC_MEOH\", hue=\"type\", multiple=\"dodge\", shrink=.8)`\n",
    "\n",
    "* `data=df`:  df is the dataframe name\n",
    "* `x=\"TEAC_MEOH\"`: TEAC_MEOH is the variable value that is histogrammed\n",
    "* `hue=\"type\"`: This separates the data into two classes according to \"type\" (0 or 1)\n",
    "* `multiple = \"dodge\"`: This offsets the two histograms from each other. An alternative is `multiple = \"stack\"`. The default is to overlay the histograms.\n",
    "* shrink = .8:  The histogram bars will occupy 80% of the bin width"
   ]
  },
  {
   "cell_type": "markdown",
   "id": "456dc7d6",
   "metadata": {},
   "source": [
    "We can do multiple plots from the same cell if we use the 'show() command between plots. Otherwise all the data will be put on the same plot."
   ]
  },
  {
   "cell_type": "code",
   "execution_count": 20,
   "id": "2da95822-cef0-414e-aec6-4313d1d466ed",
   "metadata": {},
   "outputs": [
    {
     "data": {
      "image/png": "[encoded data removed]",
      "text/plain": [
       "<Figure size 432x288 with 1 Axes>"
      ]
     },
     "metadata": {
      "needs_background": "light"
     },
     "output_type": "display_data"
    },
    {
     "data": {
      "image/png": "[encoded data removed]",
      "text/plain": [
       "<Figure size 432x288 with 1 Axes>"
      ]
     },
     "metadata": {
      "needs_background": "light"
     },
     "output_type": "display_data"
    }
   ],
   "source": [
    "sns.histplot(data=df, x=\"TPC_MEOH\", hue=\"type\", multiple=\"dodge\", shrink=.8)\n",
    "show()\n",
    "sns.histplot(data=df, x=\"FRAP_MEOH\", hue=\"type\", multiple=\"dodge\", shrink=.8)\n",
    "show()"
   ]
  },
  {
   "cell_type": "markdown",
   "id": "8a6222cf-9be4-4f55-aead-6559a2ceb5a3",
   "metadata": {},
   "source": [
    " - nonfermented (orange) TPC_MEOH has a much smaller variance than fermented (blue), and is also slightly skewed left.\n",
    " -  nonfermented (orange) FRAP_MEOH also has a smaller variance than fermented (blue), but this time is slightly skewed right."
   ]
  },
  {
   "cell_type": "markdown",
   "id": "1ceb3238-5ea5-40fd-901c-cb4e04f91e57",
   "metadata": {},
   "source": [
    "Now it's your turn! Do the plots for TEAC, TPC, and FRAP for water solvent.  Remember to use show() to separate the plots."
   ]
  },
  {
   "cell_type": "code",
   "execution_count": 21,
   "id": "8f8f216d-f6ca-44dd-b621-f09f3f96fc95",
   "metadata": {},
   "outputs": [],
   "source": [
    "#-------  Your code here (TEAC) -----------\n",
    "\n",
    "#-------  Your code here (TPC) -----------\n",
    "\n",
    "#-------  Your code here (FRAP) -----------"
   ]
  },
  {
   "cell_type": "markdown",
   "id": "d06223be-59cb-4c53-b917-1bcb0a046940",
   "metadata": {},
   "source": [
    "<b><i> Saving data for later use </i></b>\n",
    "\n",
    "We can save the data so that we can call it up again in the next notebook"
   ]
  },
  {
   "cell_type": "code",
   "execution_count": 22,
   "id": "e4fdc428-336d-4aa0-82c5-beb9f60ba403",
   "metadata": {},
   "outputs": [
    {
     "name": "stdout",
     "output_type": "stream",
     "text": [
      "Stored 'df_nf' (DataFrame)\n",
      "Stored 'df_fer' (DataFrame)\n",
      "Stored 'df' (DataFrame)\n"
     ]
    }
   ],
   "source": [
    "%store df_nf\n",
    "%store df_fer\n",
    "%store df"
   ]
  },
  {
   "cell_type": "markdown",
   "id": "9e377864",
   "metadata": {},
   "source": [
    "Congratulations!  You've finished your basic exploration of the data.  In the next notebook we'll go on to more descriptive visualizations."
   ]
  }
 ],
 "metadata": {
  "kernelspec": {
   "display_name": "Python 3 (ipykernel)",
   "language": "python",
   "name": "python3"
  },
  "language_info": {
   "codemirror_mode": {
    "name": "ipython",
    "version": 3
   },
   "file_extension": ".py",
   "mimetype": "text/x-python",
   "name": "python",
   "nbconvert_exporter": "python",
   "pygments_lexer": "ipython3",
   "version": "3.9.7"
  }
 },
 "nbformat": 4,
 "nbformat_minor": 5
}
