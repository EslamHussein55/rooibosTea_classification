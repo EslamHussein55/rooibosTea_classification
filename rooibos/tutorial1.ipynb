{
 "cells": [
  {
   "cell_type": "markdown",
   "id": "b9040fa0",
   "metadata": {},
   "source": [
    "# Tutorial 1: Data visualization"
   ]
  },
  {
   "cell_type": "markdown",
   "id": "c534e59a-e519-4068-93e4-9d8456734f9e",
   "metadata": {},
   "source": [
    "---"
   ]
  },
  {
   "cell_type": "markdown",
   "id": "ba277ee6-66ea-4a1c-8f57-45f216e50f4c",
   "metadata": {},
   "source": [
    "## Introduction"
   ]
  },
  {
   "cell_type": "markdown",
   "id": "bffd6602",
   "metadata": {
    "tags": []
   },
   "source": [
    "Welcome!, this tutorial will show you how to visualise biochemical assay data from rooibos tea samples using python. From this tutorial you will learn:\n",
    "\n",
    " - how to read data into python from an Excel file\n",
    " - how to use dataframes (pandas package)\n",
    " - how to visualise and compare biochemical properties of fermented and unfermented rooibos teas  using histograms\n",
    " - how to use Google to overcome programming challenges\n",
    "\n",
    "Let's get started! First let's import the python packages we'll need to load and visualize our data.\n",
    "\n",
    "_Note_ that you will need to run all the cells in the notebook in order for it to work properly. The best way to do this is run them one by one.  Try to understand what each cell is doing when you run it. In some cells, you will have to write or modify code--just follow the instructions.  "
   ]
  },
  {
   "cell_type": "markdown",
   "id": "88d4f7dd-21ca-4e7a-a616-8d59e5e6a43e",
   "metadata": {},
   "source": [
    "---"
   ]
  },
  {
   "cell_type": "markdown",
   "id": "6a04601b-e6c1-4eb9-812e-58b57c390035",
   "metadata": {},
   "source": [
    "First we import some libraries:"
   ]
  },
  {
   "cell_type": "code",
   "execution_count": 1,
   "id": "d438ecdc",
   "metadata": {},
   "outputs": [],
   "source": [
    "# ___Cell no. 1___\n",
    "\n",
    "import pandas as pd # for importing data into data frame format\n",
    "import seaborn as sns # For drawing useful graphs, such as bar graphs\n",
    "from matplotlib.pyplot import show # This displays graphs once they have been created"
   ]
  },
  {
   "cell_type": "markdown",
   "id": "0c62182d-3c70-4019-873b-b330b0009098",
   "metadata": {},
   "source": [
    "The above statements define the prefixes 'pd' and 'sns' which will be used to identify  pandas and seaborn functions respectively in the following code."
   ]
  },
  {
   "cell_type": "markdown",
   "id": "465ecdc5",
   "metadata": {},
   "source": [
    "<b><i> Reading in data </i></b> \n",
    "\n",
    "The following code does the following:\n",
    "- reads data from an Excel file\n",
    "- converts the Excel file format into a Pandas dataframe "
   ]
  },
  {
   "cell_type": "code",
   "execution_count": 2,
   "id": "c3e3fdcd",
   "metadata": {},
   "outputs": [],
   "source": [
    "# ___Cell no. 2___\n",
    "\n",
    "df_fer = pd.read_excel('data/orig.xlsx',  sheet_name='fer') # change the directory as needed\n",
    "# df_fer ~ data frame with data from fermented rooibos samples\n",
    "\n",
    "df_nf = pd.read_excel('data/orig.xlsx',  sheet_name='nonfer') # change the directory as needed\n",
    "# df_nf ~ data frame with nonfermented rooibos samples\n",
    "\n",
    "## Note that both fer/nf are from the same excel file \"orig.xlsx\", but on different sheets "
   ]
  },
  {
   "cell_type": "markdown",
   "id": "996ea564",
   "metadata": {},
   "source": [
    "<b><i> Examining data </i></b> \n",
    "\n",
    "First let's take a look at the raw fermented and non-fermented data."
   ]
  },
  {
   "cell_type": "code",
   "execution_count": 3,
   "id": "3b8adaf7",
   "metadata": {},
   "outputs": [
    {
     "name": "stdout",
     "output_type": "stream",
     "text": [
      "   type      F-MEOH      A1-MEOH      A2-MEOH   F-H2O   A1-H2O  A2-H2O cut\n",
      "0     0  275.767474  2821.888864  1180.778887  314.33  2588.61  584.61  FC\n",
      "1     0  253.494375  2355.706326   647.096605  331.41  2818.87  589.91  LL\n",
      "2     0  255.307044  2182.134125   729.411993  269.64  2432.14  551.30  LL\n",
      "3     0  275.360573  2469.683915   842.797272  210.76  1979.52  402.41  LL\n",
      "4     0  303.070769  2546.362880   905.330599  199.87  1865.86  365.39  LL\n"
     ]
    }
   ],
   "source": [
    "# ___Cell no. 3___\n",
    "print(df_nf.head(5)) # shows the first 5 rows of the data frame (nonfermented data)\n"
   ]
  },
  {
   "cell_type": "markdown",
   "id": "61a7ec9f-58cf-404d-8de0-5dca237ba64d",
   "metadata": {},
   "source": [
    "---\n",
    "\n",
    "**Exercise 1:** Show the first 5 rows of the data frame that has fermented data. \n",
    "<br>\n",
    "##### **hints**: All you need to do is copy the code from the previous cell and change the name of the data frame. Don't forget to run the cell after you've done this.\n"
   ]
  },
  {
   "cell_type": "code",
   "execution_count": 4,
   "id": "45b0a3d3",
   "metadata": {},
   "outputs": [],
   "source": [
    "#  ___ code here ____\n"
   ]
  },
  {
   "cell_type": "markdown",
   "id": "4fc60d44",
   "metadata": {},
   "source": [
    "In both dataframes, the rows correspond to different tea samples, while the columns give the values of 8 variables, which can be explained as follows:\n",
    "-  type -- categorical variable denoting one of two types: nonfermented(0) or fermented(1)\n",
    "- F-H2O -- continuous variable: F stands for phenolics and H2O stands for water extract. which means the phenolic content was extracted using water as solvent\n",
    "- A1-H2O -- continuous variable: A1 is a symbol for TEAC which is measurement of antioxidant activity, H2O is the solvent as above \n",
    "- A2-H2O -- continuous variable: A2 is a symbol for FRAP which is a measurement of antioxidant activity, H2O is the solvent again \n",
    "- F-MEOH -- continuous variable: F stands for phenolics (as above), this time extracted using methanol (MEOH) as solvent instead of water\n",
    "- A1-MEOH -- continuous variable: as above A1 represents TEAC with MEOH as solvent\n",
    "- A2-MEOH -- continuous variable: A2 is for FRAP and MEOH is the solvent. \n",
    "- cut -- catagorical variable, indicating the cut of the rooibos (not of interest in this study)"
   ]
  },
  {
   "cell_type": "markdown",
   "id": "86a08d92",
   "metadata": {},
   "source": [
    "Now let's verify the number of samples in each dataset. We do this using the 'shape' attribute for data frames:"
   ]
  },
  {
   "cell_type": "code",
   "execution_count": 5,
   "id": "59c285dc",
   "metadata": {},
   "outputs": [
    {
     "name": "stdout",
     "output_type": "stream",
     "text": [
      "the shape of the nonfermented data is (47, 8)\n",
      "where 47 is the number of rows, and\n",
      "8 is the number of columns\n"
     ]
    }
   ],
   "source": [
    "# ___Cell no. 4___\n",
    "\n",
    "# for nonfermented\n",
    "\n",
    "nf_sh = df_nf.shape # \"df_nf.shape\" produces a tuple of 2 numbers \n",
    "print(\"the shape of the nonfermented data is \"+str(nf_sh) ) \n",
    "\n",
    "# The individual numbers in the tuple are accessed as follows:\n",
    "print(\"where \" + str(nf_sh[0]) +\" is the number of rows, and\")\n",
    "print(str(nf_sh[1]) +\" is the number of columns\")"
   ]
  },
  {
   "cell_type": "markdown",
   "id": "9c9b562e-4c42-4eb4-a19d-b79aeba7c67b",
   "metadata": {},
   "source": [
    "---\n",
    "**Exercise 2:** Please do the same for the fermented data\n",
    "<br>\n",
    "##### **hint**: Make sure to change `nf` to `fer` in all of the variable names\n"
   ]
  },
  {
   "cell_type": "code",
   "execution_count": 6,
   "id": "760ef925",
   "metadata": {},
   "outputs": [],
   "source": [
    "#  ___ code here ____\n",
    "\n",
    "\n"
   ]
  },
  {
   "cell_type": "markdown",
   "id": "e0d5d086",
   "metadata": {},
   "source": [
    "<img src=\"pics/roo.jpg\" width=\"500\" height=\"250\">\n"
   ]
  },
  {
   "cell_type": "markdown",
   "id": "2d6dd1b6-a5f5-459e-9476-1514c7115044",
   "metadata": {},
   "source": [
    "---"
   ]
  },
  {
   "cell_type": "markdown",
   "id": "982f9d78",
   "metadata": {},
   "source": [
    "<b><i>Renaming variables</i></b>: \n",
    "\n",
    "The variable names are rather obscure.  Let's change them to improve readability.  Unfortunately I don't remember how to do this--but all is not lost. We have at  our disposal one of the main keys to python programming success:  Google! "
   ]
  },
  {
   "cell_type": "markdown",
   "id": "fa35a1e5",
   "metadata": {},
   "source": [
    "<img src=\"pics/google.png\" width=\"400\" height=\"200\">\n"
   ]
  },
  {
   "cell_type": "markdown",
   "id": "c0fc6a29",
   "metadata": {},
   "source": [
    "Just search for  `change columns names pandas`.  You will soon learn how to recognize good websites that will provide working code that you can copy, paste, and modify.  \n",
    "\n",
    "Fortunately one of the links that comes up is from 'Stackoverflow' which often gives valuable tips (and re-usable code). Here's the link:\n",
    "\n",
    " - https://stackoverflow.com/questions/11346283/renaming-column-names-in-pandas\n",
    "\n",
    "From here we may copy-paste the first line in the code below, then modify as needed."
   ]
  },
  {
   "cell_type": "code",
   "execution_count": 7,
   "id": "fa2ccec8",
   "metadata": {},
   "outputs": [],
   "source": [
    "# ___Cell no. 5___\n",
    "# Code from stackoverflow:\n",
    "# df.rename({'$a':'a', '$b':'b', '$c':'c', '$d':'d', '$e':'e'}, axis='columns')\n",
    "\n",
    "# let's modify the above line of code, and see whether it work or not\n",
    "\n",
    "df_nf = df_nf.rename({'F-H2O':'TPC_H2O', 'A1-H2O':'TEAC_H2O', 'A2-H2O':'FRAP_H2O',\n",
    "                      'F-MEOH':'TPC_MEOH', 'A1-MEOH':'TEAC_MEOH', 'A2-MEOH':'FRAP_MEOH'}, axis='columns')\n",
    "# Notice: you need to re-assign the data frame to itself for you to save the changes"
   ]
  },
  {
   "cell_type": "code",
   "execution_count": 8,
   "id": "926ee851",
   "metadata": {},
   "outputs": [],
   "source": [
    "# ___Cell no. 6___\n",
    "# Now for the fermented dataframe. \n",
    "df_fer = df_fer.rename({'F-H2O':'TPC_H2O', 'A1-H2O':'TEAC_H2O', 'A2-H2O':'FRAP_H2O',\n",
    "                      'F-MEOH':'TPC_MEOH', 'A1-MEOH':'TEAC_MEOH', 'A2-MEOH':'FRAP_MEOH'}, axis='columns')"
   ]
  },
  {
   "cell_type": "markdown",
   "id": "4ee611d8",
   "metadata": {},
   "source": [
    "Let's check and see if the renaming worked as we expected:"
   ]
  },
  {
   "cell_type": "code",
   "execution_count": 9,
   "id": "37b8f240",
   "metadata": {},
   "outputs": [
    {
     "name": "stdout",
     "output_type": "stream",
     "text": [
      "Nonfermented data:\n",
      "   type    TPC_MEOH    TEAC_MEOH    FRAP_MEOH  TPC_H2O  TEAC_H2O  FRAP_H2O cut\n",
      "0     0  275.767474  2821.888864  1180.778887   314.33   2588.61    584.61  FC\n",
      "1     0  253.494375  2355.706326   647.096605   331.41   2818.87    589.91  LL\n",
      "2     0  255.307044  2182.134125   729.411993   269.64   2432.14    551.30  LL\n"
     ]
    }
   ],
   "source": [
    "# ___Cell no. 7___\n",
    "# Print the first three lines of the nonfermented dataset\n",
    "print(\"Nonfermented data:\")\n",
    "print(df_nf.head(3))\n",
    "# Your turn!  Print an empty line, then print the first three lines of the fermented dataset\n",
    "# (your code here)"
   ]
  },
  {
   "cell_type": "markdown",
   "id": "d7ba2371-e200-4034-9dd6-aa51efa1c9bf",
   "metadata": {},
   "source": [
    "---"
   ]
  },
  {
   "cell_type": "markdown",
   "id": "f9059c6d",
   "metadata": {},
   "source": [
    "<b><i>Data concatenation into a single frame</i></b>: \n",
    "\n",
    "We're just about ready to visualize the data using histograms. For this purpose, it's easier to concatenate the two dataframes into a single frame."
   ]
  },
  {
   "cell_type": "code",
   "execution_count": 10,
   "id": "44996bd1",
   "metadata": {},
   "outputs": [],
   "source": [
    "# ___Cell no. 8___\n",
    "frames = [df_nf, df_fer] # This is a list of the two frames to concatenate\n",
    "\n",
    "# 'df' is the name of the combined data frame\n",
    "df = pd.concat(frames, ignore_index=True) #'ignore_index' assigns a consecutive index to the rows\n"
   ]
  },
  {
   "cell_type": "markdown",
   "id": "dfc0efb9-9953-4d61-bd15-6130fe2760c2",
   "metadata": {},
   "source": [
    "---\n",
    "**Exercise 3:** Display the first 50 lines of the concatenated frame 'df' \n",
    "<br>\n",
    "##### **hint**: use the 'head' command, as you did before, and then print the shape of df.\n"
   ]
  },
  {
   "cell_type": "code",
   "execution_count": 11,
   "id": "b65e70da",
   "metadata": {},
   "outputs": [],
   "source": [
    "#  ___ code here ____\n"
   ]
  },
  {
   "cell_type": "markdown",
   "id": "b13c569b-f7cc-4aa8-b54a-f7e430ac6c2f",
   "metadata": {},
   "source": [
    "---"
   ]
  },
  {
   "cell_type": "markdown",
   "id": "1a63c260",
   "metadata": {},
   "source": [
    "<b><i>Histograms</i></b>: \n",
    "\n",
    "At this point, we're ready to plot comparative histograms for the different variables. We want to compare non-fermented versus fermented, which is easy to do using Seaborn's 'histplot' command.\n",
    "\n",
    "If you have done the exercises correctly, you will have two series of bars (blue and orange) in the following plots."
   ]
  },
  {
   "cell_type": "code",
   "execution_count": 12,
   "id": "58bb9759",
   "metadata": {},
   "outputs": [
    {
     "data": {
      "image/png": "[encoded data removed]",
      "text/plain": [
       "<Figure size 432x288 with 1 Axes>"
      ]
     },
     "metadata": {
      "needs_background": "light"
     },
     "output_type": "display_data"
    }
   ],
   "source": [
    "# ___Cell no. 9___\n",
    "sns.histplot(data=df, x=\"TEAC_MEOH\", hue=\"type\", multiple=\"dodge\", shrink=.8)\n",
    "show() # shows the plot"
   ]
  },
  {
   "cell_type": "markdown",
   "id": "553d29f3",
   "metadata": {},
   "source": [
    "From the histograms we may draw the following conclusions:\n",
    "\n",
    " - nonfermented (blue) is somewhat less left skewed. The data appears to have two peaks (this is called \"bimodal\", but with more data it's quite likely that this effect would disappear.\n",
    " - fermented (orange) is clearly left skewed.\n"
   ]
  },
  {
   "cell_type": "markdown",
   "id": "7aabbce8",
   "metadata": {},
   "source": [
    "The histogram options in the previous code can be explained as follows:\n",
    "\n",
    "`sns.histplot(data=df, x=\"TEAC_MEOH\", hue=\"type\", multiple=\"dodge\", shrink=.8)`\n",
    "\n",
    "* `data=df`:  df is the dataframe name\n",
    "* `x=\"TEAC_MEOH\"`: TEAC_MEOH is the variable value that is histogrammed\n",
    "* `hue=\"type\"`: This separates the data into two classes according to \"type\" (0 or 1)\n",
    "* `multiple = \"dodge\"`: This offsets the two histograms from each other. An alternative is `multiple = \"stack\"`. The default is to overlay the histograms.\n",
    "* shrink = .8:  The histogram bars will occupy 80% of the bin width"
   ]
  },
  {
   "cell_type": "markdown",
   "id": "f2ac2f7b",
   "metadata": {},
   "source": [
    "We can do multiple plots from the same cell if we use the 'show() command between plots. Otherwise all the data will be put on the same plot."
   ]
  },
  {
   "cell_type": "code",
   "execution_count": 13,
   "id": "5007cd1b",
   "metadata": {},
   "outputs": [
    {
     "data": {
      "image/png": "[encoded data removed]",
      "text/plain": [
       "<Figure size 432x288 with 1 Axes>"
      ]
     },
     "metadata": {
      "needs_background": "light"
     },
     "output_type": "display_data"
    },
    {
     "data": {
      "image/png": "[encoded data removed]",
      "text/plain": [
       "<Figure size 432x288 with 1 Axes>"
      ]
     },
     "metadata": {
      "needs_background": "light"
     },
     "output_type": "display_data"
    }
   ],
   "source": [
    "# ___Cell no. 10___\n",
    "sns.histplot(data=df, x=\"TPC_MEOH\", hue=\"type\", multiple=\"dodge\", shrink=.8)\n",
    "show()\n",
    "sns.histplot(data=df, x=\"FRAP_MEOH\", hue=\"type\", multiple=\"dodge\", shrink=.8)\n",
    "show()"
   ]
  },
  {
   "cell_type": "markdown",
   "id": "5511122b",
   "metadata": {},
   "source": [
    " - fermented (orange) TPC_MEOH has a much smaller variance than nonfermented (blue), and is also slightly skewed left.\n",
    " - fermented (orange) FRAP_MEOH also has a smaller variance than nonfermented (blue), but this time is slightly skewed right."
   ]
  },
  {
   "cell_type": "markdown",
   "id": "097edfd3-3457-4f2c-b251-8ca016def4d8",
   "metadata": {},
   "source": [
    "---\n",
    "**Exercise 3:** Do the plots for TEAC, TPC, and FRAP for water solvent.\n",
    "<br>\n",
    "##### **hint**: Remember to use show() to separate the plots."
   ]
  },
  {
   "cell_type": "code",
   "execution_count": 14,
   "id": "3a4c14dc",
   "metadata": {},
   "outputs": [],
   "source": [
    "#-------  Your code here (TEAC) -----------\n",
    "\n",
    "#-------  Your code here (TPC) -----------\n",
    "\n",
    "#-------  Your code here (FRAP) -----------"
   ]
  },
  {
   "cell_type": "markdown",
   "id": "186cb1a1-e985-4b40-983b-d66fb4dd9021",
   "metadata": {},
   "source": [
    "---"
   ]
  },
  {
   "cell_type": "markdown",
   "id": "1dae234a",
   "metadata": {},
   "source": [
    "<b><i> Saving data for later use </i></b>\n",
    "\n",
    "We can save the data so that we can call it up again in the next notebook"
   ]
  },
  {
   "cell_type": "code",
   "execution_count": 15,
   "id": "906e684c",
   "metadata": {},
   "outputs": [
    {
     "name": "stdout",
     "output_type": "stream",
     "text": [
      "Stored 'df_nf' (DataFrame)\n",
      "Stored 'df_fer' (DataFrame)\n",
      "Stored 'df' (DataFrame)\n"
     ]
    }
   ],
   "source": [
    "%store df_nf\n",
    "%store df_fer\n",
    "%store df"
   ]
  },
  {
   "cell_type": "markdown",
   "id": "268bd8eb",
   "metadata": {},
   "source": [
    "Congratulations!  You've finished your basic exploration of the data.  In the next notebook we'll go on to more descriptive visualizations."
   ]
  },
  {
   "cell_type": "code",
   "execution_count": null,
   "id": "32e12703",
   "metadata": {},
   "outputs": [],
   "source": []
  }
 ],
 "metadata": {
  "kernelspec": {
   "display_name": "Python 3",
   "language": "python",
   "name": "python3"
  },
  "language_info": {
   "codemirror_mode": {
    "name": "ipython",
    "version": 3
   },
   "file_extension": ".py",
   "mimetype": "text/x-python",
   "name": "python",
   "nbconvert_exporter": "python",
   "pygments_lexer": "ipython3",
   "version": "3.8.3"
  }
 },
 "nbformat": 4,
 "nbformat_minor": 5
}
