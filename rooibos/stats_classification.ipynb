{
 "cells": [
  {
   "cell_type": "markdown",
   "id": "18944af0",
   "metadata": {},
   "source": [
    "## Welcome to the next-to-last practical"
   ]
  },
  {
   "cell_type": "markdown",
   "id": "830509e5",
   "metadata": {},
   "source": [
    "This tutorial will show you how to get the computer to distinguish data between classes. There are many methods to classify data, but these can be summarised into (1) basic statistical methods; (2) machine learning; and (3) deep learning.\n",
    "\n",
    "We will continue with the rooibos data. Given the small size of this dataset, this notebook will focus on developing basic statistical methods for classifying tea samples into fermented and nonfermented. We will also estimate the accuracy of classification methods.  When estimating accuracy, it is important also to determine how exact this estimate is--so we will also show how to compute the standard deviation of the accuracy estimate using the so-called jackknife. "
   ]
  },
  {
   "cell_type": "markdown",
   "id": "86a264e8-219b-4454-8d61-564f2dbc24c4",
   "metadata": {},
   "source": [
    "---"
   ]
  },
  {
   "cell_type": "markdown",
   "id": "e1936d48",
   "metadata": {},
   "source": [
    "### Overview of the classification problem  in general\n",
    "\n",
    "The following picture demonstrates the simple idea behind computational classification of objects. The general procedure is:\n",
    "* Extract features from data;\n",
    "* Pass the features into a model;\n",
    "* The model outputs a determination of the sample's class.\n",
    "\n",
    "To make this work, the programmer must:\n",
    "* Determine informative features to be used;\n",
    "* Develop a model that can effectively make use of the features extracted;\n",
    "* Evaluate the accuracy of the overall system\n",
    "\n",
    "In this tutorial we are classifying tea samples, and the  features we will be using are the TPC, TEAC, and FRAP measurements obtained from chemical assays.\n",
    "\n",
    "<img src=\"pics/cat.png\" width=\"700\" height=\"300\">\n",
    "\n"
   ]
  },
  {
   "cell_type": "markdown",
   "id": "c4d3061e",
   "metadata": {},
   "source": [
    "### Binary classification\n",
    "\n",
    "* two classes, distinguish between \"null\" and \"positive\"\n",
    "* In this case when distinguishing there are two possible errors: false positive or false negative\n",
    "  * **[False positive](https://www.statisticshowto.com/false-positive-definition-and-examples/)**: Is where you receive a positive result for a test, when you should have received a negative results, it occurs when a cancer screening test comes back positive, but you don’t have the disease.\n",
    "  * **[False negative](https://www.statisticshowto.com/false-positive-definition-and-examples/)**: Is where a negative test result is wrong. like In the Justice System, a false negative occurs when a guilty suspect is found “Not Guilty” and allowed to walk free.\n",
    "* These two work against each other.  Decreasing the false positive rate tends to increase the false negative rate.\n",
    "    * false positive rate: What proportion of positive identifications was actually correct?\n",
    "    * false negative rate: What proportion of actual positives was identified correctly?\n",
    "* **[False positive rate](https://developers.google.com/machine-learning/crash-course/classification/check-your-understanding-accuracy-precision-recall)** is related to specificity  and precision\n",
    "* **[False negative rate](https://developers.google.com/machine-learning/crash-course/classification/check-your-understanding-accuracy-precision-recall)** is related to recall and sensitivity\n",
    "#### Threshold\n",
    "Usually binary classification is based on a single quantity calculated from the features of the data sample. If this quantity exceeds a threshold (which is set by the programmer) then the sample is judged to be in one class, and if not the sample is put in the other class.\n",
    "\n",
    "Related concepts include accuracy, F1 score (will discuss later)\n",
    "\n",
    "<img src=\"pics/preVSrec.svg\" width=\"700\" height=\"200\">\n",
    "\n"
   ]
  },
  {
   "cell_type": "markdown",
   "id": "f641d86c-d2cc-4346-a848-890a384c075e",
   "metadata": {},
   "source": [
    "---\n",
    "\n",
    "[**Exercise 1:**](https://developers.google.com/machine-learning/crash-course/classification/check-your-understanding-accuracy-precision-recall) Consider a classification model that separates email into two categories: \"spam\" or \"not spam.\" If you raise the classification threshold, what will happen to precision?, what about recall\n"
   ]
  },
  {
   "cell_type": "markdown",
   "id": "f972523b-94ae-4aba-b41d-dc1f44a08aa2",
   "metadata": {},
   "source": [
    "---"
   ]
  },
  {
   "cell_type": "markdown",
   "id": "18492750",
   "metadata": {},
   "source": [
    "#### Method 1: Receiver operating characteristic [(ROC)](https://developers.google.com/machine-learning/crash-course/classification/roc-and-auc) curves"
   ]
  },
  {
   "cell_type": "markdown",
   "id": "a63dcb7b",
   "metadata": {},
   "source": [
    "Receiver operating characteristic (ROC) curves are used to determine thresholds based on the trade-off between false positive error and false negative error. The ROC curve tells you what false positive rate to expect for a given false negative rate.\n",
    "\n",
    "Before we get started, we need to repeat the setup code from the previous notebook.\n",
    "_ put necessary setup code from previous notebook here_\n",
    "\n",
    "Our example will use code the python packages matplotlib, numpy, and sklearn.  In addition, we will make use of some pre-written programs that are located in the `source` directory. We begin by importing these packages.\n",
    "\n"
   ]
  },
  {
   "cell_type": "code",
   "execution_count": 1,
   "id": "31111d1a",
   "metadata": {},
   "outputs": [
    {
     "name": "stdout",
     "output_type": "stream",
     "text": [
      "(98, 8)\n"
     ]
    }
   ],
   "source": [
    "import matplotlib.pyplot as plt\n",
    "import numpy as np\n",
    "from sklearn.metrics import *\n",
    "from sklearn import metrics\n",
    "from sklearn.model_selection import train_test_split\n",
    "from source.roc import draw_roc # python function from file 'roc' in the source directory\n",
    "from source.baseline_acc import get_accuracy_base # @@ modify comment @@@ importing the baseline code from source.basline file, the baseline that is used called as \"Mahalanobis distance\" link \"https://en.wikipedia.org/wiki/Mahalanobis_distance\"\n",
    "from source.calculate_jack import jack_SD # @@ modify comment @@ importing the baseline code from source.basline file\n",
    "import pandas as pd\n",
    "\n",
    "# @@@ Redo this \n",
    "%store -r df_nf\n",
    "%store -r df_fer\n",
    "%store -r df\n",
    "\n",
    "print(\"Shape of data frame (rows, columns) is: \", df.shape) "
   ]
  },
  {
   "cell_type": "markdown",
   "id": "5494d657",
   "metadata": {},
   "source": [
    "Always explain what you're going to do before the code."
   ]
  },
  {
   "cell_type": "code",
   "execution_count": 2,
   "id": "9d6b3da1",
   "metadata": {},
   "outputs": [
    {
     "name": "stdout",
     "output_type": "stream",
     "text": [
      "   type    TPC_MEOH    TEAC_MEOH    FRAP_MEOH  TPC_H2O  TEAC_H2O  FRAP_H2O cut\n",
      "0     0  275.767474  2821.888864  1180.778887   314.33   2588.61    584.61  FC\n",
      "1     0  253.494375  2355.706326   647.096605   331.41   2818.87    589.91  LL\n"
     ]
    }
   ],
   "source": [
    "print(df.head(2))"
   ]
  },
  {
   "cell_type": "markdown",
   "id": "593fb7f4",
   "metadata": {},
   "source": [
    "explain as well as comments"
   ]
  },
  {
   "cell_type": "code",
   "execution_count": 3,
   "id": "ec8f4754",
   "metadata": {},
   "outputs": [],
   "source": [
    "feat_H2O = ['TPC_H2O', 'TEAC_H2O',  'FRAP_H2O'] # define the input (features)\n",
    "feat_MEOH = ['TPC_MEOH', 'TEAC_MEOH',  'FRAP_MEOH'] # define the input (features)\n",
    "\n",
    "y = df[['type']] # define the output (target)"
   ]
  },
  {
   "cell_type": "code",
   "execution_count": 4,
   "id": "fb53a707",
   "metadata": {},
   "outputs": [
    {
     "data": {
      "image/png": "[encoded data removed]",
      "text/plain": [
       "<Figure size 504x360 with 1 Axes>"
      ]
     },
     "metadata": {
      "needs_background": "light"
     },
     "output_type": "display_data"
    }
   ],
   "source": [
    "# ROC curves, should it be done on the entire data set, or just the training\n",
    "di_h2o =[True, False, False] # if one of the features direction is below the 45 degrees, then we make it False\n",
    "draw_roc (df, di_h2o, feat_H2O, y)\n"
   ]
  },
  {
   "cell_type": "code",
   "execution_count": 6,
   "id": "99e90622",
   "metadata": {},
   "outputs": [],
   "source": [
    "### ------- please do it for meoh extract ------------\n"
   ]
  },
  {
   "cell_type": "markdown",
   "id": "017392f6",
   "metadata": {},
   "source": [
    "Notice the following:\n",
    " - the True positive rate = sensitivity = recall\n",
    " - false-positive rate = (1-specificity), it tells you the proportion of the 2nd class which was not correctly classified, so the more you go to the right, the worse"
   ]
  },
  {
   "cell_type": "markdown",
   "id": "1fcbe963",
   "metadata": {},
   "source": [
    "### Statistical Baseline\n"
   ]
  },
  {
   "cell_type": "code",
   "execution_count": 7,
   "id": "c4c6843b",
   "metadata": {},
   "outputs": [],
   "source": [
    "y = df[['type']]\n",
    "\n",
    "\n",
    "features = [ ['TPC_H2O'], ['TEAC_H2O'],  ['FRAP_H2O'], ['TPC_H2O', 'TEAC_H2O']]\n",
    "\n",
    "splits = [0.4]"
   ]
  },
  {
   "cell_type": "code",
   "execution_count": 8,
   "id": "f15c0edc",
   "metadata": {},
   "outputs": [],
   "source": [
    "base_dict = {} # https://www.geeksforgeeks.org/python-nested-dictionary/  (for more exploration around dictionaries) "
   ]
  },
  {
   "cell_type": "code",
   "execution_count": 9,
   "id": "60a37159",
   "metadata": {},
   "outputs": [],
   "source": [
    "for s in splits:\n",
    "    X_train, X_test, y_train, y_test = train_test_split(df, y, test_size= s, random_state=1, stratify = y, shuffle = True)\n",
    "    \n",
    "    for f in features:\n",
    "        xtr =  X_train[f]\n",
    "        xte =  X_test[f]\n",
    "        results = get_accuracy_base (xtr, y_train, xte, y_test, len(f)) # to get the accuarcies for the baseline\n",
    "        \n",
    "        key = str(s)+\",\"+str(f)\n",
    "        \n",
    "        base_dict[key] = {}\n",
    "        base_dict[key]['tot_acc'] = results[0]\n",
    "        base_dict[key]['jack_train'] = results[1]\n",
    "        base_dict[key]['jack_test'] = results[2]\n",
    "        # print(base_dict)\n",
    "        # print()"
   ]
  },
  {
   "cell_type": "code",
   "execution_count": 13,
   "id": "6b4c9241",
   "metadata": {},
   "outputs": [
    {
     "name": "stdout",
     "output_type": "stream",
     "text": [
      "Stored 'base_dict' (dict)\n"
     ]
    }
   ],
   "source": [
    "%store base_dict \n",
    "# we will use this Dictionary in the next notebook"
   ]
  },
  {
   "cell_type": "markdown",
   "id": "8aba0661",
   "metadata": {},
   "source": [
    "### playing around with dictionaries "
   ]
  },
  {
   "cell_type": "code",
   "execution_count": 14,
   "id": "ddfb4ae1",
   "metadata": {},
   "outputs": [
    {
     "name": "stdout",
     "output_type": "stream",
     "text": [
      "dict_keys([\"0.4,['TPC_H2O']\", \"0.4,['TEAC_H2O']\", \"0.4,['FRAP_H2O']\", \"0.4,['TPC_H2O', 'TEAC_H2O']\"])\n",
      "dict_keys(['tot_acc', 'jack_train', 'jack_test'])\n"
     ]
    }
   ],
   "source": [
    "print(base_dict.keys())\n",
    "key = list(base_dict.keys())[0]\n",
    "print( base_dict[key].keys() )"
   ]
  },
  {
   "cell_type": "markdown",
   "id": "1f528a11",
   "metadata": {},
   "source": [
    "### now let us graph the accuracy with the SD"
   ]
  },
  {
   "cell_type": "code",
   "execution_count": 15,
   "id": "c70bea8b",
   "metadata": {},
   "outputs": [
    {
     "name": "stdout",
     "output_type": "stream",
     "text": [
      "0.4,['TPC_H2O']: 0.55\n",
      "0.08996396844211696\n",
      "\n",
      "0.4,['TEAC_H2O']: 0.675\n",
      "0.13291317134775255\n",
      "\n",
      "0.4,['FRAP_H2O']: 0.75\n",
      "0.3032381727198833\n",
      "\n",
      "0.4,['TPC_H2O', 'TEAC_H2O']: 0.85\n",
      "0.05717718748968661\n",
      "\n"
     ]
    }
   ],
   "source": [
    "acc_arr = [] \n",
    "sd_arr = [] \n",
    "\n",
    "\n",
    "for key in base_dict.keys():\n",
    "    \n",
    "    print( str(key)+\": \"+str(base_dict[key][ 'tot_acc' ] ))\n",
    "    acc_arr.append(base_dict[key][ 'tot_acc' ]) # append total accuarcy to an array\n",
    "    sd_train = jack_SD( np.zeros( len(base_dict[key][ 'jack_train' ]) ), base_dict[key][ 'jack_train' ])[0]\n",
    "    sd_test = jack_SD( np.zeros( len(base_dict[key][ 'jack_test' ]) ), base_dict[key][ 'jack_test' ])[0]\n",
    "    sd = np.sqrt( np.array((sd_train**2)) + np.array((sd_test**2)))\n",
    "    sd_arr.append(sd) # append sd_arr to an array\n",
    "\n",
    "    print(sd)\n",
    "    print()\n",
    "    \n"
   ]
  },
  {
   "cell_type": "code",
   "execution_count": 20,
   "id": "838b1528",
   "metadata": {},
   "outputs": [
    {
     "data": {
      "text/plain": [
       "<ErrorbarContainer object of 3 artists>"
      ]
     },
     "execution_count": 20,
     "metadata": {},
     "output_type": "execute_result"
    },
    {
     "data": {
      "image/png": "[encoded data removed]",
      "text/plain": [
       "<Figure size 720x504 with 1 Axes>"
      ]
     },
     "metadata": {
      "needs_background": "light"
     },
     "output_type": "display_data"
    }
   ],
   "source": [
    "plt.figure(figsize=(10 , 7))\n",
    "plt.title( \"Accuracies for different features with SD\", fontweight ='bold', fontsize =12)\n",
    "plt.xlabel(\"Features\", fontweight ='bold', fontsize =12)\n",
    "plt.ylabel(\"Accuracy\", fontweight ='bold', fontsize =12)\n",
    "plt.errorbar( list(base_dict.keys()), acc_arr, sd_arr, fmt='o')\n"
   ]
  },
  {
   "cell_type": "markdown",
   "id": "ee148c5e",
   "metadata": {},
   "source": [
    "### Now try to add more features, and try with methanol"
   ]
  },
  {
   "cell_type": "code",
   "execution_count": 21,
   "id": "e5802984",
   "metadata": {},
   "outputs": [],
   "source": [
    "# ----- code here ------------"
   ]
  },
  {
   "cell_type": "markdown",
   "id": "22519975",
   "metadata": {},
   "source": [
    "### Now try to mix both methanol and water extracts"
   ]
  },
  {
   "cell_type": "code",
   "execution_count": 22,
   "id": "1c8bf308",
   "metadata": {},
   "outputs": [],
   "source": [
    "# ----- code here ------------"
   ]
  },
  {
   "cell_type": "markdown",
   "id": "7e8e4ad2",
   "metadata": {},
   "source": [
    "### now draw a conclusion\n",
    "- hint: usually it be the highest accuracy with the lowest SD will be the best method"
   ]
  },
  {
   "cell_type": "code",
   "execution_count": null,
   "id": "e793af64",
   "metadata": {},
   "outputs": [],
   "source": []
  },
  {
   "cell_type": "code",
   "execution_count": null,
   "id": "2488967c",
   "metadata": {},
   "outputs": [],
   "source": []
  }
 ],
 "metadata": {
  "kernelspec": {
   "display_name": "Python 3",
   "language": "python",
   "name": "python3"
  },
  "language_info": {
   "codemirror_mode": {
    "name": "ipython",
    "version": 3
   },
   "file_extension": ".py",
   "mimetype": "text/x-python",
   "name": "python",
   "nbconvert_exporter": "python",
   "pygments_lexer": "ipython3",
   "version": "3.8.3"
  }
 },
 "nbformat": 4,
 "nbformat_minor": 5
}
