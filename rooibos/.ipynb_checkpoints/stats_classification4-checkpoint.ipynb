{
 "cells": [
  {
   "cell_type": "markdown",
   "id": "18944af0",
   "metadata": {},
   "source": [
    "## Welcome to the next-to-last practical"
   ]
  },
  {
   "cell_type": "markdown",
   "id": "830509e5",
   "metadata": {},
   "source": [
    "This tutorial will show you how to get the computer to distinguish data between classes. There are many methods to classify data, but these can be summarised into (1) basic statistical methods; (2) machine learning; and (3) deep learning.\n",
    "\n",
    "We will continue with the rooibos data. Given the small size of this dataset, this notebook will focus on developing basic statistical methods for classifying tea samples into fermented and nonfermented. We will also estimate the accuracy of classification methods.  When estimating accuracy, it is important also to determine how exact this estimate is--so we will also show how to compute the standard deviation of the accuracy estimate using the so-called jackknife. "
   ]
  },
  {
   "cell_type": "markdown",
   "id": "86a264e8-219b-4454-8d61-564f2dbc24c4",
   "metadata": {},
   "source": [
    "---"
   ]
  },
  {
   "cell_type": "markdown",
   "id": "e1936d48",
   "metadata": {},
   "source": [
    "### Overview of the classification problem  in general\n",
    "\n",
    "The following picture demonstrates the simple idea behind computational classification of objects. The general procedure is:\n",
    "* Extract features from data;\n",
    "* Pass the features into a model;\n",
    "* The model outputs a determination of the sample's class.\n",
    "\n",
    "<img src=\"pics/cat.png\" width=\"700\" height=\"300\">\n",
    "\n",
    "In this tutorial we are classifying tea samples, and the  features we will be using are the TPC, TEAC, and FRAP measurements obtained from chemical assays.\n",
    "\n",
    "To make this work, the programmer must:\n",
    "* Determine informative features to be used;\n",
    "* Develop a model that can effectively make use of the features extracted;\n",
    "* Evaluate the accuracy of the overall system\n"
   ]
  },
  {
   "cell_type": "markdown",
   "id": "c4d3061e",
   "metadata": {},
   "source": [
    "### Binary classification\n",
    "\n",
    "Binary classification supposes that we are trying to distinguish between two classes, denoted as \"null\" and \"positive\". In this case when distinguishing there are two possible errors: false positive or false negative:\n",
    "  * **[False positive](https://www.statisticshowto.com/false-positive-definition-and-examples/)**: This is where you receive a positive result for a test, when you should have received a negative (null) result. For example, it occurs when a cancer screening test comes back positive, but you don’t have the disease.\n",
    "  * **[False negative](https://www.statisticshowto.com/false-positive-definition-and-examples/)**: This is where a negative (null) test result is wrong. For example, in the Justice System, a false negative occurs when a guilty suspect is found “not guilty” and allowed to walk free.\n",
    "  \n",
    "Based on these definitions, we may define:\n",
    "\n",
    "    * <it>false positive rate<\\it>: What proportion of positive identifications was actually correct?\n",
    "    * false negative rate: What proportion of actual positives was identified correctly?\n",
    "\n",
    "These two work against each other: decreasing the false positive rate tends to increase the false negative rate.\n",
    "\n",
    "\n",
    "* False positive rate is related to [specificity  and precision](https://developers.google.com/machine-learning/crash-course/classification/check-your-understanding-accuracy-precision-recall)\n",
    "* @@@ Change link here @@@ **[False negative rate](https://developers.google.com/machine-learning/crash-course/classification/check-your-understanding-accuracy-precision-recall)** is related to recall and sensitivity\n",
    "\n",
    "### Threshold\n",
    "\n",
    "Usually binary classification is based on a single quantity calculated from the features of the data sample. If this quantity exceeds a threshold (which is set by the programmer) then the sample is judged to be in one class, and if not the sample is put in the other class.\n",
    "\n",
    "A related concept is accuracy (we will discuss this later)\n",
    "\n",
    "The following figure gives an example of classification using a threshold.  In this case, we have\n",
    "\n",
    "* @@@ correct predictions of ``spam`` (true positive)\n",
    "* @@@ continue (4 altogether)\n",
    "\n",
    "From these we may calculate:\n",
    "\n",
    "* @@@ compute false negative/positive rate, specificity and sensitivity, accuracy\n",
    "\n",
    "\n",
    "<img src=\"pics/preVSrec.svg\" width=\"700\" height=\"200\">\n",
    "\n"
   ]
  },
  {
   "cell_type": "markdown",
   "id": "f641d86c-d2cc-4346-a848-890a384c075e",
   "metadata": {},
   "source": [
    "---\n",
    "\n",
    "[**Exercise 1:**](https://developers.google.com/machine-learning/crash-course/classification/check-your-understanding-accuracy-precision-recall) Consider a classification model that separates email into two categories: \"spam\" or \"not spam.\" If you raise the classification threshold, what will happen to precision? What about recall?\n"
   ]
  },
  {
   "cell_type": "markdown",
   "id": "f972523b-94ae-4aba-b41d-dc1f44a08aa2",
   "metadata": {},
   "source": [
    "---"
   ]
  },
  {
   "cell_type": "markdown",
   "id": "18492750",
   "metadata": {},
   "source": [
    "#### Method 1: Receiver operating characteristic [(ROC)](https://developers.google.com/machine-learning/crash-course/classification/roc-and-auc) curves"
   ]
  },
  {
   "cell_type": "markdown",
   "id": "a63dcb7b",
   "metadata": {},
   "source": [
    "Receiver operating characteristic (ROC) curves are used to determine thresholds based on the trade-off between false positive error and false negative error. The ROC curve tells you what false positive rate to expect for a given false negative rate.\n",
    "\n",
    "Our example will use code the python packages matplotlib, numpy, and sklearn.  In addition, we will make use of some pre-written programs that are located in the `source` directory. We begin by importing these packages.\n",
    "\n"
   ]
  },
  {
   "cell_type": "code",
   "execution_count": 10,
   "id": "31111d1a",
   "metadata": {},
   "outputs": [
    {
     "name": "stdout",
     "output_type": "stream",
     "text": [
      "Shape of data frame (rows, columns) is:  (98, 8)\n"
     ]
    }
   ],
   "source": [
    "## Python packages \n",
    "import matplotlib.pyplot as plt\n",
    "import numpy as np\n",
    "from sklearn.metrics import *\n",
    "from sklearn import metrics\n",
    "from sklearn.model_selection import train_test_split\n",
    "import pandas as pd\n",
    "\n",
    "## Prewritten codes in 'source' directory:\n",
    "\n",
    "# The following code draws the ROC curves\n",
    "from source.roc import draw_roc \n",
    "\n",
    "# The following code computes \"Mahalanobis distance\" \n",
    "# (https://en.wikipedia.org/wiki/Mahalanobis_distance), which can be used as a criterion\n",
    "from source.baseline_acc import get_accuracy_base \n",
    "\n",
    "# The following code implements jackknife (to be discussed below) \n",
    "from source.calculate_jack import jack_SD \n",
    "\n",
    "## Recover data from files\n",
    "%store -r df_nf\n",
    "%store -r df_fer\n",
    "%store -r df\n",
    "\n",
    "print(\"Shape of data frame (rows, columns) is: \", df.shape) "
   ]
  },
  {
   "cell_type": "markdown",
   "id": "5494d657",
   "metadata": {},
   "source": [
    "First let's look at the imported data"
   ]
  },
  {
   "cell_type": "code",
   "execution_count": 11,
   "id": "9d6b3da1",
   "metadata": {},
   "outputs": [
    {
     "name": "stdout",
     "output_type": "stream",
     "text": [
      "   type    TPC_MEOH    TEAC_MEOH    FRAP_MEOH  TPC_H2O  TEAC_H2O  FRAP_H2O cut\n",
      "0     0  275.767474  2821.888864  1180.778887   314.33   2588.61    584.61  FC\n",
      "1     0  253.494375  2355.706326   647.096605   331.41   2818.87    589.91  LL\n"
     ]
    }
   ],
   "source": [
    "print(df.head(2))"
   ]
  },
  {
   "cell_type": "markdown",
   "id": "ef8ff83d-734d-41b3-8eb0-5b9ab8929fd4",
   "metadata": {},
   "source": [
    "---"
   ]
  },
  {
   "cell_type": "markdown",
   "id": "d8fdd75b-5072-4ab4-93cd-032c0b4d878b",
   "metadata": {},
   "source": [
    "Now let's create arrays for the inputs and outputs."
   ]
  },
  {
   "cell_type": "code",
   "execution_count": 12,
   "id": "fe038eb5-3d17-493d-b40e-d83aa3f9319d",
   "metadata": {},
   "outputs": [],
   "source": [
    "feat_H2O = ['TPC_H2O', 'TEAC_H2O',  'FRAP_H2O'] # define the input (features) for H20\n",
    "feat_MEOH = ['TPC_MEOH', 'TEAC_MEOH',  'FRAP_MEOH'] # define the input (features) for MeOH\n",
    "\n",
    "y = df[['type']] # define the output (target)"
   ]
  },
  {
   "cell_type": "markdown",
   "id": "7c596127-4813-40bd-8e6d-6408958ee655",
   "metadata": {},
   "source": [
    "We consider the case where we are trying to use individual features to distinguish between fermented and nonfermented.  Since we have three different features, for each feature we can set a classification threshold.  The question is:  of these three features, which will give better classification results? We may use the ROC curves associated with each feature to determine this.\n",
    "\n",
    "Let's call the `draw_roc` function to draw the three ROC curves using the arrays we defined above"
   ]
  },
  {
   "cell_type": "code",
   "execution_count": 13,
   "id": "fb53a707",
   "metadata": {},
   "outputs": [
    {
     "data": {
      "image/png": "[encoded data removed]",
      "text/plain": [
       "<Figure size 504x360 with 1 Axes>"
      ]
     },
     "metadata": {
      "needs_background": "light"
     },
     "output_type": "display_data"
    }
   ],
   "source": [
    "# ROC curves, should it be done on the entire data set, or just the training\n",
    "di_h2o =[True, True, True] # if one of the features direction is below the 45 degrees, then we make it False\n",
    "draw_roc (df, di_h2o, feat_H2O, y)\n"
   ]
  },
  {
   "cell_type": "markdown",
   "id": "b146701a",
   "metadata": {},
   "source": [
    "Each graph is showing the true positive and false positive rates depending on the threshold that is set (the thresholds themselves not shown in the graph--only the rates are shown).  For example, if we use the `TEAC-H2O` features and set the threshold  so that the false positive rate is 0.5 (i.e. the specificity is 0.5), then the true positive rate (recall) is about 0.3.  \n",
    "\n",
    "Now, the dotted line corresponds to random guessing:  if you simply make random guesses, then the true and false positive rates will be equal.  A good classifier will have a large true positive rate and small false positive rate. In other words, you want your ROC cuve to lie *above* the dotted line.  However, we can see that the TEAC_H2O and FRAP_H2O lines are *below* the dotted line.  This means that these classifiers are *worse* than random guessing.  How to solve this problem? Easy--instead of saying above the the threshold is 'positive', assign it to 'negative' (and similarly with below the threshold).  We can do this in the code by specifying the option `False` in line 2 of the above code for TEAC_H2O and FRAP_H2O. "
   ]
  },
  {
   "cell_type": "markdown",
   "id": "01c01bba-b164-489f-a4ee-f0cfdd2cdd2a",
   "metadata": {},
   "source": [
    "---\n",
    "**Exercise 2:** Copy and change the above code so that all ROC curves lie above the dotted line.\n",
    "<br>\n"
   ]
  },
  {
   "cell_type": "code",
   "execution_count": 10,
   "id": "a44cdd38",
   "metadata": {},
   "outputs": [],
   "source": [
    "#  ___ code here ____\n",
    "\n"
   ]
  },
  {
   "cell_type": "markdown",
   "id": "5b7c3e11",
   "metadata": {},
   "source": [
    "---\n",
    "**Exercise 3:** Please do the same for the MeOH extract. Make sure that all curves are above the dotted line.\n",
    "<br>\n"
   ]
  },
  {
   "cell_type": "code",
   "execution_count": 10,
   "id": "99e90622",
   "metadata": {},
   "outputs": [],
   "source": [
    "#  ___ code here ____\n",
    "\n"
   ]
  },
  {
   "cell_type": "markdown",
   "id": "8007b47c-458c-45ab-b4a9-321067ea48b4",
   "metadata": {},
   "source": [
    "---"
   ]
  },
  {
   "cell_type": "markdown",
   "id": "1fcbe963",
   "metadata": {},
   "source": [
    "### Statistical Baseline\n"
   ]
  },
  {
   "cell_type": "markdown",
   "id": "2599ef35-aa7f-42ca-8f9a-bd8fc173eace",
   "metadata": {},
   "source": [
    "first let us define the target (output) into a separate dataframe"
   ]
  },
  {
   "cell_type": "code",
   "execution_count": 11,
   "id": "6fd2ac26-2446-4c98-8222-20fac0cf881c",
   "metadata": {},
   "outputs": [],
   "source": [
    "y = df[['type']]"
   ]
  },
  {
   "cell_type": "markdown",
   "id": "af36f4f4-0143-4a35-9950-796d4b6ecebd",
   "metadata": {},
   "source": [
    "Then let us define feature groups in a 2D array"
   ]
  },
  {
   "cell_type": "code",
   "execution_count": 12,
   "id": "c4c6843b",
   "metadata": {},
   "outputs": [],
   "source": [
    "features = [ ['TPC_H2O'], ['TEAC_H2O'],  ['FRAP_H2O'], ['TPC_H2O', 'TEAC_H2O']]"
   ]
  },
  {
   "cell_type": "markdown",
   "id": "6118ec32-f13e-4644-a9d6-e999670ca21c",
   "metadata": {},
   "source": [
    "define an array of good splits, I am only intersted in one"
   ]
  },
  {
   "cell_type": "code",
   "execution_count": 25,
   "id": "c8346783-caec-487d-8a4f-fc7527b4ff47",
   "metadata": {},
   "outputs": [],
   "source": [
    "splits = [0.4, 0.2]"
   ]
  },
  {
   "cell_type": "markdown",
   "id": "3e9d5544-b80b-44dc-923c-91fb10715838",
   "metadata": {},
   "source": [
    "define an empty dictionary"
   ]
  },
  {
   "cell_type": "code",
   "execution_count": 26,
   "id": "f15c0edc",
   "metadata": {},
   "outputs": [],
   "source": [
    "base_dict = {} \n",
    "# https://www.geeksforgeeks.org/python-nested-dictionary/  (for more exploration around dictionaries) "
   ]
  },
  {
   "cell_type": "markdown",
   "id": "6ecd52ed-92c7-47e7-bbf9-64442300e7b1",
   "metadata": {},
   "source": [
    "The following code generates the results (should I hide it, or turn it into function ??)"
   ]
  },
  {
   "cell_type": "code",
   "execution_count": 27,
   "id": "60a37159",
   "metadata": {},
   "outputs": [],
   "source": [
    "for s in splits:\n",
    "    X_train, X_test, y_train, y_test = train_test_split(df, y, test_size= s, random_state=1, stratify = y, shuffle = True)\n",
    "    \n",
    "    for f in features:\n",
    "        xtr =  X_train[f]\n",
    "        xte =  X_test[f]\n",
    "        results = get_accuracy_base (xtr, y_train, xte, y_test, len(f)) # to get the accuarcies for the baseline\n",
    "        \n",
    "        key = str(s)+\",\"+str(f)\n",
    "        \n",
    "        base_dict[key] = {}\n",
    "        base_dict[key]['tot_acc'] = results[0]\n",
    "        base_dict[key]['jack_train'] = results[1]\n",
    "        base_dict[key]['jack_test'] = results[2]\n",
    "        # print(base_dict)\n",
    "        # print()"
   ]
  },
  {
   "cell_type": "code",
   "execution_count": 28,
   "id": "6b4c9241",
   "metadata": {},
   "outputs": [
    {
     "name": "stdout",
     "output_type": "stream",
     "text": [
      "Stored 'base_dict' (dict)\n"
     ]
    }
   ],
   "source": [
    "%store base_dict \n",
    "# we will use this Dictionary in the next notebook"
   ]
  },
  {
   "cell_type": "markdown",
   "id": "8aba0661",
   "metadata": {},
   "source": [
    "playing around with dictionaries "
   ]
  },
  {
   "cell_type": "code",
   "execution_count": 29,
   "id": "ddfb4ae1",
   "metadata": {},
   "outputs": [
    {
     "name": "stdout",
     "output_type": "stream",
     "text": [
      "dict_keys([\"0.4,['TPC_H2O']\", \"0.4,['TEAC_H2O']\", \"0.4,['FRAP_H2O']\", \"0.4,['TPC_H2O', 'TEAC_H2O']\", \"0.2,['TPC_H2O']\", \"0.2,['TEAC_H2O']\", \"0.2,['FRAP_H2O']\", \"0.2,['TPC_H2O', 'TEAC_H2O']\"])\n",
      "dict_keys(['tot_acc', 'jack_train', 'jack_test'])\n"
     ]
    }
   ],
   "source": [
    "print(base_dict.keys())\n",
    "key = list(base_dict.keys())[0]\n",
    "print( base_dict[key].keys() )"
   ]
  },
  {
   "cell_type": "markdown",
   "id": "1f528a11",
   "metadata": {},
   "source": [
    "now let us graph the accuracy with the SD (should I turn it into a function)"
   ]
  },
  {
   "cell_type": "code",
   "execution_count": 30,
   "id": "c70bea8b",
   "metadata": {},
   "outputs": [
    {
     "name": "stdout",
     "output_type": "stream",
     "text": [
      "0.4,['TPC_H2O']: 0.55\n",
      "0.08996396844211696\n",
      "\n",
      "0.4,['TEAC_H2O']: 0.675\n",
      "0.13291317134775255\n",
      "\n",
      "0.4,['FRAP_H2O']: 0.75\n",
      "0.3032381727198833\n",
      "\n",
      "0.4,['TPC_H2O', 'TEAC_H2O']: 0.85\n",
      "0.05717718748968661\n",
      "\n",
      "0.2,['TPC_H2O']: 0.5\n",
      "0.26668904971981533\n",
      "\n",
      "0.2,['TEAC_H2O']: 0.7\n",
      "0.10513149660756924\n",
      "\n",
      "0.2,['FRAP_H2O']: 0.7\n",
      "0.2379385671900674\n",
      "\n",
      "0.2,['TPC_H2O', 'TEAC_H2O']: 0.8\n",
      "0.0917662935482246\n",
      "\n"
     ]
    }
   ],
   "source": [
    "acc_arr = [] \n",
    "sd_arr = [] \n",
    "\n",
    "\n",
    "for key in base_dict.keys():\n",
    "    \n",
    "    print( str(key)+\": \"+str(base_dict[key][ 'tot_acc' ] ))\n",
    "    acc_arr.append(base_dict[key][ 'tot_acc' ]) # append total accuarcy to an array\n",
    "    sd_train = jack_SD( np.zeros( len(base_dict[key][ 'jack_train' ]) ), base_dict[key][ 'jack_train' ])[0]\n",
    "    sd_test = jack_SD( np.zeros( len(base_dict[key][ 'jack_test' ]) ), base_dict[key][ 'jack_test' ])[0]\n",
    "    sd = np.sqrt( np.array((sd_train**2)) + np.array((sd_test**2)))\n",
    "    sd_arr.append(sd) # append sd_arr to an array\n",
    "\n",
    "    print(sd)\n",
    "    print()\n",
    "    \n"
   ]
  },
  {
   "cell_type": "code",
   "execution_count": 40,
   "id": "838b1528",
   "metadata": {},
   "outputs": [
    {
     "data": {
      "text/plain": [
       "<ErrorbarContainer object of 3 artists>"
      ]
     },
     "execution_count": 40,
     "metadata": {},
     "output_type": "execute_result"
    },
    {
     "data": {
      "image/png": "[encoded data removed]",
      "text/plain": [
       "<Figure size 1224x504 with 1 Axes>"
      ]
     },
     "metadata": {
      "needs_background": "light"
     },
     "output_type": "display_data"
    }
   ],
   "source": [
    "plt.figure(figsize=(17 , 7))\n",
    "plt.title( \"Accuracies for different features with SD\", fontweight ='bold', fontsize =12)\n",
    "plt.xlabel(\"Features\", fontweight ='bold', fontsize =12)\n",
    "plt.xticks(rotation = 60) # Rotates X-Axis Ticks by 45-degrees\n",
    "plt.ylabel(\"Accuracy\", fontweight ='bold', fontsize =12)\n",
    "plt.errorbar( list(base_dict.keys()), acc_arr, sd_arr, fmt='o')\n"
   ]
  },
  {
   "cell_type": "markdown",
   "id": "ee148c5e",
   "metadata": {},
   "source": [
    "### Now try to add more features, and try with methanol"
   ]
  },
  {
   "cell_type": "code",
   "execution_count": 21,
   "id": "e5802984",
   "metadata": {},
   "outputs": [],
   "source": [
    "# ----- code here ------------"
   ]
  },
  {
   "cell_type": "markdown",
   "id": "22519975",
   "metadata": {},
   "source": [
    "### Now try to mix both methanol and water extracts"
   ]
  },
  {
   "cell_type": "code",
   "execution_count": 22,
   "id": "1c8bf308",
   "metadata": {},
   "outputs": [],
   "source": [
    "# ----- code here ------------"
   ]
  },
  {
   "cell_type": "markdown",
   "id": "7e8e4ad2",
   "metadata": {},
   "source": [
    "### now draw a conclusion\n",
    "- hint: usually it be the highest accuracy with the lowest SD will be the best method"
   ]
  },
  {
   "cell_type": "code",
   "execution_count": null,
   "id": "e793af64",
   "metadata": {},
   "outputs": [],
   "source": []
  },
  {
   "cell_type": "code",
   "execution_count": null,
   "id": "2488967c",
   "metadata": {},
   "outputs": [],
   "source": []
  }
 ],
 "metadata": {
  "kernelspec": {
   "display_name": "Python 3 (ipykernel)",
   "language": "python",
   "name": "python3"
  },
  "language_info": {
   "codemirror_mode": {
    "name": "ipython",
    "version": 3
   },
   "file_extension": ".py",
   "mimetype": "text/x-python",
   "name": "python",
   "nbconvert_exporter": "python",
   "pygments_lexer": "ipython3",
   "version": "3.9.7"
  }
 },
 "nbformat": 4,
 "nbformat_minor": 5
}
