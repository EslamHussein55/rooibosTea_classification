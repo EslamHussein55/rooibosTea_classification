{
 "cells": [
  {
   "cell_type": "markdown",
   "id": "5688b4e8",
   "metadata": {},
   "source": [
    "### Hello, and welcome to the final practical"
   ]
  },
  {
   "cell_type": "markdown",
   "id": "97dd0a18",
   "metadata": {},
   "source": [
    "This tutorial will show you how to:\n",
    " - Use different machine learning methods (logistic regression, and random forest) tools with some parameter optimization to classify rooibos teas\n",
    " - Compare those methods against each other using jackknife and a baseline\n",
    " \n",
    " First we download the necessary packages."
   ]
  },
  {
   "cell_type": "code",
   "execution_count": 3,
   "id": "33a00d72",
   "metadata": {},
   "outputs": [],
   "source": [
    "## Python packages \n",
    "from sklearn.linear_model import LogisticRegression # a ML method\n",
    "from sklearn.ensemble import RandomForestClassifier # a ML method\n",
    "import numpy as np\n",
    "from source.ml_acc import get_accuracy_ml #importing the ml_accuracy code from source ml_acc file\n",
    "import matplotlib.pyplot as plt\n",
    "import pandas as pd\n",
    "from sklearn.model_selection import train_test_split\n",
    "from source.calculate_jack import jack_SD # importing the baseline code from source.basline file"
   ]
  },
  {
   "cell_type": "markdown",
   "id": "d23645e6-3ef7-4ed0-b06a-3167688c416a",
   "metadata": {},
   "source": [
    "Recover the data stored in files `df` and `base_dict` (which were created in the last tutorial)"
   ]
  },
  {
   "cell_type": "code",
   "execution_count": 5,
   "id": "14e4635a-5b15-4533-934e-40f031480085",
   "metadata": {},
   "outputs": [],
   "source": [
    "%store -r df\n",
    "%store -r base_dict "
   ]
  },
  {
   "cell_type": "markdown",
   "id": "ceba4424",
   "metadata": {},
   "source": [
    "### Set up machine learning methods and their hyper-parameters\n",
    "\n",
    "Here we will look at two very popular machine learning (ML) methods: logistic regression and random forest."
   ]
  },
  {
   "cell_type": "code",
   "execution_count": 7,
   "id": "7c4be85a",
   "metadata": {},
   "outputs": [],
   "source": [
    "lr = LogisticRegression() # defining the model\n",
    "rf = RandomForestClassifier( random_state=1, n_jobs=-1 ) # defining the model\n",
    "\n",
    "## Define a list of models, We will use this when we loop through ML methods.\n",
    "models = [ [lr, 'lr'], [rf, 'rf']]\n"
   ]
  },
  {
   "cell_type": "markdown",
   "id": "b2d8750d",
   "metadata": {},
   "source": [
    "ML methods have *hyper-parameters* which must be defined before they can run. The hyper-parameter values used can significantly affect the performance of the methods. For this reason, *hyper-parameter optimization* is used to find the best values for these hyper-parameters. We need to specify which hyper-parameters to try. We will run each ML algorithm with all possible combinations of hyper-parameters, and choose the best combination (this is called *grid search*).\n",
    " \n",
    "Each method has its own set of hyper-parameters. In the following code block we set options for three hyperparameters for logistic regression, and one for random forest."
   ]
  },
  {
   "cell_type": "code",
   "execution_count": 8,
   "id": "0a3c0f44",
   "metadata": {},
   "outputs": [],
   "source": [
    "## logistic regression (LR)\n",
    "solvers = ['newton-cg', 'liblinear']\n",
    "penalty = ['l2']\n",
    "c_values = [1000, 100, 10, 1.0, 0.1, 0.01, 0.001]\n",
    "lr_par = dict(solver=solvers,penalty=penalty,C=c_values) # creating a dictionary that contains the hyper-paramters\n",
    "\n",
    "## random forest (RF)\n",
    "n_estimators = range(10, 100, 10)\n",
    "rf_par = dict(n_estimators=n_estimators) # creating a dictionary that contains the hyper-paramters\n",
    "\n",
    "## Define a list of parameter sets. to go along with the list of parameter models.\n",
    "parameters = [lr_par, rf_par]"
   ]
  },
  {
   "cell_type": "markdown",
   "id": "0e9d8203",
   "metadata": {},
   "source": [
    "To set up the training and testing sets, we need to specify inputs (feature sets), outputs (targets), and the training/testing split. We will be applying each ML method to four different feature sets, and compare the performances."
   ]
  },
  {
   "cell_type": "code",
   "execution_count": 10,
   "id": "37732fb8",
   "metadata": {},
   "outputs": [],
   "source": [
    "y = df[['type']] # define the targets\n",
    "features = [ ['TPC_H2O'], ['TEAC_H2O'],  ['FRAP_H2O'], ['TPC_H2O', 'TEAC_H2O']] # define a list of features\n",
    "splits = 0.4 # define a split (we will use 0.4, since it was the best in the prevoius notebook)"
   ]
  },
  {
   "cell_type": "markdown",
   "id": "55b7a192-67aa-4278-bbbb-a0feda264862",
   "metadata": {},
   "source": [
    "### train"
   ]
  },
  {
   "cell_type": "code",
   "execution_count": 6,
   "id": "47954618",
   "metadata": {},
   "outputs": [
    {
     "name": "stdout",
     "output_type": "stream",
     "text": [
      "lr\n"
     ]
    },
    {
     "name": "stderr",
     "output_type": "stream",
     "text": [
      "/users/hussein/.local/lib/python3.8/site-packages/scipy/optimize/linesearch.py:327: LineSearchWarning: The line search algorithm did not converge\n",
      "  warn('The line search algorithm did not converge', LineSearchWarning)\n",
      "/users/hussein/.local/lib/python3.8/site-packages/sklearn/utils/optimize.py:203: UserWarning: Line Search failed\n",
      "  warnings.warn(\"Line Search failed\")\n"
     ]
    },
    {
     "name": "stdout",
     "output_type": "stream",
     "text": [
      "rf\n"
     ]
    }
   ],
   "source": [
    "ml_dicts = {}\n",
    "for m, par in zip(models, parameters):\n",
    "    \n",
    "    X_train, X_test, y_train, y_test = train_test_split(df, y, test_size= splits, random_state=1, stratify = y, shuffle = True)\n",
    "    \n",
    "    key0 = str(m[1])\n",
    "    print(key0)\n",
    "    ml_dicts[key0] = {}\n",
    "    \n",
    "    for f in features:\n",
    "        xtr =  X_train[f] \n",
    "        xte =  X_test[f]\n",
    "        results = get_accuracy_ml (m[0], par, np.array(xtr), np.array(y_train).flatten(), np.array(xte), np.array(y_test).flatten()) # to get the accuracies for the ml model\n",
    "\n",
    "        key = str(splits)+\",\"+str((f))\n",
    "        ml_dicts[key0][key] = {}\n",
    "\n",
    "        ml_dicts[key0][key]['tot_acc'] = results[0]\n",
    "        ml_dicts[key0][key]['jack_train'] = results[1]\n",
    "        ml_dicts[key0][key]['jack_test'] = results[2]"
   ]
  },
  {
   "cell_type": "code",
   "execution_count": 7,
   "id": "d52e9fd7",
   "metadata": {},
   "outputs": [
    {
     "name": "stdout",
     "output_type": "stream",
     "text": [
      "Main keys are: dict_keys(['lr', 'rf']) which stands for the main ML models\n",
      "now let use see what is inside the key LR\n",
      "sub keys are: dict_keys([\"0.4,['TPC_H2O']\", \"0.4,['TEAC_H2O']\", \"0.4,['FRAP_H2O']\", \"0.4,['TPC_H2O', 'TEAC_H2O']\"]) which stands for the main ML features\n",
      "now let use see what is inside one of the features LR\n",
      "sub keys are: dict_keys(['tot_acc', 'jack_train', 'jack_test']) which is the same as the prevoius notebook\n"
     ]
    }
   ],
   "source": [
    "print(\"Main keys are: \"+ str(ml_dicts.keys()) + \" which stands for the main ML models\")\n",
    "print(\"now let use see what is inside the key LR\")\n",
    "print(\"sub keys are: \"+ str(ml_dicts['lr'].keys()) + \" which stands for the main ML features\")\n",
    "print(\"now let use see what is inside one of the features LR\")\n",
    "print(\"sub keys are: \"+ str(ml_dicts['lr'][\"0.4,['TPC_H2O']\"].keys()) + \" which is the same as the prevoius notebook\")\n"
   ]
  },
  {
   "cell_type": "markdown",
   "id": "37bcb5d3",
   "metadata": {},
   "source": [
    "### now let us draw the accuracy with the SD"
   ]
  },
  {
   "cell_type": "code",
   "execution_count": 8,
   "id": "12552e5d",
   "metadata": {},
   "outputs": [],
   "source": [
    "arr_all = []\n",
    "for m, d in zip (models, ml_dicts.keys()):\n",
    "    acc_arr = [] \n",
    "    sd_arr = [] \n",
    "\n",
    "    # print(ml_dicts[d])\n",
    "    for key in ml_dicts[d].keys():\n",
    "        acc_arr.append(ml_dicts[d][key][ 'tot_acc' ]) # append total accuracy to an array\n",
    "        sd_train = jack_SD(np.zeros( len(ml_dicts[d][key][ 'jack_train' ]) ), ml_dicts[d][key][ 'jack_train' ])[0]\n",
    "        sd_test = jack_SD(np.zeros( len(ml_dicts[d][key][ 'jack_test' ]) ), ml_dicts[d][key][ 'jack_test' ])[0]\n",
    "        sd = np.sqrt( np.array((sd_train**2)) + np.array((sd_test**2)))\n",
    "        sd_arr.append(sd) # append sd_arr to an array\n",
    "    arr_all.append([ list(ml_dicts[d].keys()), acc_arr, sd_arr])    \n"
   ]
  },
  {
   "cell_type": "code",
   "execution_count": 9,
   "id": "a0682d53-ef78-44f3-8e2b-d00ebd181ea1",
   "metadata": {},
   "outputs": [
    {
     "name": "stdout",
     "output_type": "stream",
     "text": [
      "[[[\"0.4,['TPC_H2O']\", \"0.4,['TEAC_H2O']\", \"0.4,['FRAP_H2O']\", \"0.4,['TPC_H2O', 'TEAC_H2O']\"], [0.55, 0.675, 0.525, 0.85], [0.14167175550373268, 0.20989609073554497, 0.07996393417804541, 0.11144080226799552]], [[\"0.4,['TPC_H2O']\", \"0.4,['TEAC_H2O']\", \"0.4,['FRAP_H2O']\", \"0.4,['TPC_H2O', 'TEAC_H2O']\"], [0.55, 0.55, 0.6, 0.8], [0.12566820395262832, 0.15890069601656445, 0.17099766572376984, 0.22750359370554438]]]\n"
     ]
    }
   ],
   "source": [
    "print(arr_all) # should we delete this line?"
   ]
  },
  {
   "cell_type": "markdown",
   "id": "73744243-a407-448d-a79e-5ff9d3afb2ef",
   "metadata": {},
   "source": [
    "#### graph"
   ]
  },
  {
   "cell_type": "code",
   "execution_count": 10,
   "id": "217374ce-fd4b-4740-a7b5-e3dbac8ff3af",
   "metadata": {},
   "outputs": [
    {
     "name": "stdout",
     "output_type": "stream",
     "text": [
      "[0. 1. 2. 3.]\n",
      "[5. 6. 7. 8.]\n"
     ]
    },
    {
     "data": {
      "image/png": "[encoded data removed]",
      "text/plain": [
       "<Figure size 1080x504 with 1 Axes>"
      ]
     },
     "metadata": {
      "needs_background": "light"
     },
     "output_type": "display_data"
    }
   ],
   "source": [
    "colors = ['blue', 'purple', 'green', 'orange', 'red', 'brown']\n",
    "plt.figure(figsize=(15, 7))\n",
    "plt.title( \"Accuracy  for different features with the SD\", fontweight ='bold', fontsize =12)\n",
    "plt.xlabel(\"Features\", fontweight ='bold', fontsize =12)\n",
    "plt.ylabel(\"Accuracy\", fontweight ='bold', fontsize =12)\n",
    "\n",
    "count = 0\n",
    "n = 5\n",
    "\n",
    "space = []\n",
    "tickFeat = []\n",
    "\n",
    "for result, model, color in zip(arr_all, models, colors):\n",
    "    a = np.linspace(n*count, n*(1+count)-2,len(features)) # to get index on the x-axis\n",
    "    print(a)\n",
    "    space.extend(a)\n",
    "    tickFeat.extend(result[0])\n",
    "    plt.errorbar( a, result[1], result[2], fmt='o', label =model[1], color = color)\n",
    "    count += 1\n",
    "\n",
    "plt.xticks(space, tickFeat, rotation = 'vertical',  fontsize =12)\n",
    "plt.ylim(.2, 1)\n",
    "plt.legend()\n",
    "\n",
    "plt.show()"
   ]
  },
  {
   "cell_type": "markdown",
   "id": "6ee5cf9a",
   "metadata": {},
   "source": [
    "## relative perfromance"
   ]
  },
  {
   "cell_type": "code",
   "execution_count": 11,
   "id": "4acba26e",
   "metadata": {},
   "outputs": [],
   "source": [
    "arr_diff_all = []\n",
    "\n",
    "for m, m_key in zip (models, ml_dicts.keys()):\n",
    "    acc_diff_arr = [] \n",
    "    sd_diff_arr = [] \n",
    "    for f_key in ml_dicts[m_key].keys():\n",
    "        \n",
    "        acc_diff_arr.append( ml_dicts[m_key][f_key][ 'tot_acc' ] -  base_dict[key][ 'tot_acc' ]  )\n",
    "#         print(acc_diff_arr)\n",
    "\n",
    "        sd_train = jack_SD( base_dict[key][ 'jack_train' ],  ml_dicts[m_key][f_key]['jack_train'] )[0]\n",
    "        sd_test = jack_SD(  base_dict[key][ 'jack_test' ] ,  ml_dicts[m_key][f_key]['jack_test']   )[0]\n",
    "\n",
    "        sd = np.sqrt( np.array((sd_train**2)) + np.array((sd_test**2)))\n",
    "        sd_diff_arr.append(sd) # append sd_arr to an array\n",
    "    arr_diff_all.append([ list(ml_dicts[m_key].keys()), acc_diff_arr, sd_diff_arr])  "
   ]
  },
  {
   "cell_type": "code",
   "execution_count": 12,
   "id": "82ac6cbc",
   "metadata": {},
   "outputs": [
    {
     "name": "stdout",
     "output_type": "stream",
     "text": [
      "[[[\"0.4,['TPC_H2O']\", \"0.4,['TEAC_H2O']\", \"0.4,['FRAP_H2O']\", \"0.4,['TPC_H2O', 'TEAC_H2O']\"], [-0.29999999999999993, -0.17499999999999993, -0.32499999999999996, 0.0], [0.14279845632226643, 0.22032600480479742, 0.09731985329907696, 0.09565470004607042]], [[\"0.4,['TPC_H2O']\", \"0.4,['TEAC_H2O']\", \"0.4,['FRAP_H2O']\", \"0.4,['TPC_H2O', 'TEAC_H2O']\"], [-0.29999999999999993, -0.29999999999999993, -0.25, -0.04999999999999993], [0.1457436634416651, 0.17151121788738863, 0.17452263578380556, 0.22960710705567428]]]\n"
     ]
    }
   ],
   "source": [
    "print(arr_diff_all) # should we delete this line?"
   ]
  },
  {
   "cell_type": "markdown",
   "id": "46bd01c2-4191-42b9-8a29-6da6e05a7057",
   "metadata": {},
   "source": [
    "graph"
   ]
  },
  {
   "cell_type": "code",
   "execution_count": 13,
   "id": "aebe3f69-e5a1-4d05-a193-caefb098e02c",
   "metadata": {},
   "outputs": [
    {
     "data": {
      "image/png": "[encoded data removed]",
      "text/plain": [
       "<Figure size 1080x504 with 1 Axes>"
      ]
     },
     "metadata": {
      "needs_background": "light"
     },
     "output_type": "display_data"
    }
   ],
   "source": [
    "# colors = ['purple', 'green', 'orange', 'red', 'brown']\n",
    "colors = ['purple', 'green'] # colors for the different methods\n",
    "plt.figure(figsize=(15, 7))\n",
    "plt.title( \"Accuracy  differences for ML methods versus LR for feature setsD\", fontweight ='bold', fontsize =12)\n",
    "plt.xlabel(\"Features\", fontweight ='bold', fontsize =12)\n",
    "plt.ylabel(\"Accuracy  difference\", fontweight ='bold', fontsize =12)\n",
    "count = 0\n",
    "n = 5\n",
    "space = [] # will be used to label the x-axis\n",
    "tickFeat = [] # will be used to label the x-axis\n",
    "\n",
    "for result, model, color in zip(arr_diff_all, models, colors):\n",
    "    a = np.linspace(n*count, n*(1+count)-2,len(features))\n",
    "    space.extend(a)\n",
    "    tickFeat.extend(result[0])\n",
    "    plt.errorbar( a, result[1], result[2], fmt='o', label =model[1], color = color)\n",
    "    count += 1\n",
    "    \n",
    "plt.plot(np.array(space), np.zeros(len(features)*len(models)), color = 'Black')        \n",
    "plt.xticks(space, tickFeat, rotation = 'vertical',  fontsize =12)\n",
    "plt.ylim(-.5, 1)\n",
    "plt.legend()\n",
    "plt.show()"
   ]
  },
  {
   "cell_type": "markdown",
   "id": "076ce854-ff96-4707-a51a-72edfadb707c",
   "metadata": {},
   "source": [
    "the graph shwows that the baseline is doing very well compared to RF and LR (maybe)"
   ]
  },
  {
   "cell_type": "markdown",
   "id": "3fca18c3-3e33-42f4-9c99-e6fd13893124",
   "metadata": {},
   "source": [
    "---\n",
    "**Challenge**\n",
    " 1. Now, try all 3 features [TP, FRAP, TEAC] on the water extracte.\n",
    " 2. repeat all tests using methanol instead of water.\n",
    " 3. Make a comparison between water and methanol extracts."
   ]
  },
  {
   "cell_type": "markdown",
   "id": "5f66bf93-d309-458e-a4a9-ae4f9668ee7e",
   "metadata": {},
   "source": [
    "### _The END_\n"
   ]
  },
  {
   "cell_type": "markdown",
   "id": "1aa36d82-6f92-4d1c-9a3e-4898fadb35af",
   "metadata": {},
   "source": [
    "<img src=\"pics/hap.jpg\" width=\"300\" height=\"200\">\n"
   ]
  },
  {
   "cell_type": "code",
   "execution_count": null,
   "id": "cb39cd2c-8f12-464f-bfe5-dd73a51de081",
   "metadata": {},
   "outputs": [],
   "source": []
  }
 ],
 "metadata": {
  "kernelspec": {
   "display_name": "Python 3 (ipykernel)",
   "language": "python",
   "name": "python3"
  },
  "language_info": {
   "codemirror_mode": {
    "name": "ipython",
    "version": 3
   },
   "file_extension": ".py",
   "mimetype": "text/x-python",
   "name": "python",
   "nbconvert_exporter": "python",
   "pygments_lexer": "ipython3",
   "version": "3.9.7"
  }
 },
 "nbformat": 4,
 "nbformat_minor": 5
}
