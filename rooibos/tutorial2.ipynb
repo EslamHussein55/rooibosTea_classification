{
 "cells": [
  {
   "cell_type": "markdown",
   "id": "100e0d5e-62fc-42dd-81f0-93a20b99dbac",
   "metadata": {},
   "source": [
    "# Tutorial 2: Data correlation"
   ]
  },
  {
   "cell_type": "markdown",
   "id": "66eaf3f6-25af-4565-8dc7-d1a1be81892b",
   "metadata": {},
   "source": [
    "---"
   ]
  },
  {
   "cell_type": "markdown",
   "id": "9a1c3a95-ce86-495e-8d8d-e8da2cc478d6",
   "metadata": {},
   "source": [
    "### Welcome back! Congratulations for making it this far!"
   ]
  },
  {
   "cell_type": "markdown",
   "id": "d9096c03",
   "metadata": {},
   "source": [
    "This tutorial will show you some correlation analysis betweeen the features of the same solution (water/methanol)"
   ]
  },
  {
   "cell_type": "markdown",
   "id": "3993aed0",
   "metadata": {},
   "source": [
    "Correlation analysis:\n",
    "- A statistical method which is often used to determine the linear relationship between two features, and compute their dependency.\n",
    "- a dependency between two features can be positive, negative, or zero (uncorrelated).\n",
    "- the strength and direction of the  correlation/dependecy can be summarized using the \"correlation cooficient\""
   ]
  },
  {
   "cell_type": "markdown",
   "id": "fdab5c88",
   "metadata": {},
   "source": [
    "### Now let us start"
   ]
  },
  {
   "cell_type": "markdown",
   "id": "ff304bfb",
   "metadata": {},
   "source": [
    "let us retrieve the data from the previous tutorial"
   ]
  },
  {
   "cell_type": "code",
   "execution_count": null,
   "id": "e636164d",
   "metadata": {},
   "outputs": [],
   "source": [
    "# ___Cell no. 1___\n",
    "\n",
    "# Nonfermented, fermented, and combined dataframes\n",
    "%store -r df_nf\n",
    "%store -r df_fer\n",
    "%store -r df"
   ]
  },
  {
   "cell_type": "markdown",
   "id": "5ca4f203-1d57-473e-b548-b3b028872726",
   "metadata": {},
   "source": [
    "---\n",
    "**Exercise 1:** Verify the data in the above data frames\n",
    "<br>\n",
    "##### **hint**: Remember the 'head' command"
   ]
  },
  {
   "cell_type": "code",
   "execution_count": null,
   "id": "4fe9931d",
   "metadata": {},
   "outputs": [],
   "source": [
    "#---- code here -----\n"
   ]
  },
  {
   "cell_type": "markdown",
   "id": "48049067",
   "metadata": {},
   "source": [
    "For more detailed data analysis, we will need the 'numpy' package, plus a specialized package that can draw confidence ellipses (explained below). "
   ]
  },
  {
   "cell_type": "code",
   "execution_count": null,
   "id": "21662b28",
   "metadata": {},
   "outputs": [],
   "source": [
    "# ___Cell no. 2___\n",
    "import numpy as np # 'np' is the prefix that will identify nump packages\n",
    "from source.ellipses import draw_confidence_ellipse # for representing the correlation"
   ]
  },
  {
   "cell_type": "markdown",
   "id": "f547df38",
   "metadata": {},
   "source": [
    "We will represent the data using a scatterplot, and will superimpose confidence ellipses to bring out the general orientation and extent of the data. A confidence ellipse shows where the data is most heavily concentrated (i.e. where the probability density is highest).  Confidence regions are used for predicting new observations with a certain degree of confidence, which depends on the confidence parameter (measured in standard deviations) used to generate the ellipse. "
   ]
  },
  {
   "cell_type": "markdown",
   "id": "a3c0a0fa",
   "metadata": {},
   "source": [
    "The syntax for the `draw_Confidence_ellipse` command is as follows:\n",
    "\n",
    "     draw_Confidence_ellipse (data1_x, data1_y, data2_x, data2_y, \n",
    "         \"y-axis label\", \"x-axis label\", \"title\", x-scale, y-scale)\"\n",
    "         \n",
    "Notice that we can continue Python commands on multiple lines, as long as we make break the statement in such a way that the Python compiler can see that the command is not yet finished (e.g. by breaking the statement after an open parenthesis or comma).\n",
    "\n",
    "Let's give this a try!"
   ]
  },
  {
   "cell_type": "code",
   "execution_count": null,
   "id": "c5f675b9",
   "metadata": {},
   "outputs": [],
   "source": [
    "# ___Cell no. 3___\n",
    "\n",
    "draw_confidence_ellipse ( \n",
    "    df_fer[['TPC_MEOH']],  df_fer[['TEAC_MEOH']],  \n",
    "    df_nf[['TPC_MEOH']],  df_nf[['TEAC_MEOH']], \n",
    "    \"TPC(GAE/g)\", \"TEAC(TE/g)\", \n",
    "    \"TEAC versus TP for $MeOH$ extracted samples\",\n",
    "    [100, 550], [1000,5550] )\n"
   ]
  },
  {
   "cell_type": "markdown",
   "id": "9f07a02a",
   "metadata": {},
   "source": [
    "The results show there is a statistically significant positive correlation between TPC and TEAC for fermented (blue). This is reflected in the tilted orientation of the ellipse. On the other hand, the correlation between TPC and TEAC for unfermented is not statistically signficant (p > 0.05). "
   ]
  },
  {
   "cell_type": "markdown",
   "id": "775e10eb",
   "metadata": {},
   "source": [
    "Now let's do the same thing for TPC vs FRAP using the methanol solvent:"
   ]
  },
  {
   "cell_type": "code",
   "execution_count": null,
   "id": "d541a84a",
   "metadata": {},
   "outputs": [],
   "source": [
    "# ___Cell no. 4___\n",
    "\n",
    "draw_confidence_ellipse (\n",
    "    df_fer[['TPC_MEOH']], df_fer[['FRAP_MEOH']], \n",
    "    df_nf[['TPC_MEOH']], df_nf[['FRAP_MEOH']], \n",
    "    \"TPC(GAE/g)\", \"FRAP(AAE/g)\", \n",
    "    \"FRAP versus TP for $MeOH$ extracted samples\", \n",
    "    [100, 550], [1000,5550] )"
   ]
  },
  {
   "cell_type": "markdown",
   "id": "9b0dd2ca-9fb9-42fd-8c32-c19cffed2b21",
   "metadata": {},
   "source": [
    "---\n",
    "**Exercise 2:** What do the numerical results indicate about the correlations?\n",
    "<br>\n"
   ]
  },
  {
   "cell_type": "markdown",
   "id": "ae1025c7",
   "metadata": {},
   "source": [
    "Evidently the y-scale is off, so we will need to change the scale.  To do this, we find the min an max values for FRAP"
   ]
  },
  {
   "cell_type": "code",
   "execution_count": null,
   "id": "47f9cdb4-0c50-4264-a52a-591f40eb7e99",
   "metadata": {},
   "outputs": [],
   "source": [
    "# ___Cell no. 5___\n",
    "print(df_fer[['FRAP_MEOH']].min()[0]) # returns an array, and we are just interested in the first index (the actual value)\n",
    "print(\"FRAP min (fer): \" +str( df_fer[['FRAP_MEOH']].min()[0]) )\n",
    "print(\"FRAP min (nf): \" +str( df_nf[['FRAP_MEOH']].min()[0]) )\n",
    "print() # creates a space\n",
    "print(\"FRAP max (fer): \" +str( df_fer[['FRAP_MEOH']].max()[0]) )\n",
    "print(\"FRAP max (nf): \" +str( df_nf[['FRAP_MEOH']].max()[0]) )"
   ]
  },
  {
   "cell_type": "markdown",
   "id": "45dd0e78-8a5e-40ce-bc45-2ca0ff84c193",
   "metadata": {},
   "source": [
    "---\n",
    "**Exercise 3:** Based on the above results, change the **y** scale so that both ellipses are contained in the plot. \n",
    "<br>"
   ]
  },
  {
   "cell_type": "code",
   "execution_count": null,
   "id": "edb23081",
   "metadata": {},
   "outputs": [],
   "source": [
    "#---- code here -----\n"
   ]
  },
  {
   "cell_type": "markdown",
   "id": "ba500474",
   "metadata": {},
   "source": [
    "---\n",
    "**Exercise 4:** Create scatter & confidence ellipse plots for  the remaining variable comparison for MeOH, and for the three variable comparisons for extracts using water (H2O) as solvent. \n",
    "\n"
   ]
  },
  {
   "cell_type": "code",
   "execution_count": null,
   "id": "83e90bd7",
   "metadata": {},
   "outputs": [],
   "source": [
    "#---- code here ----- (create as many new cells as you want)\n"
   ]
  },
  {
   "cell_type": "markdown",
   "id": "158d84b3-4e6c-48b2-be40-f73bc939533c",
   "metadata": {},
   "source": [
    "**Congratulations!** You've finished analyzing the data. In the next notebook, we'll learn how to classify the rooibos data using a simple statistical method."
   ]
  }
 ],
 "metadata": {
  "kernelspec": {
   "display_name": "rooibos_hack",
   "language": "python",
   "name": "rooibos_hack"
  },
  "language_info": {
   "codemirror_mode": {
    "name": "ipython",
    "version": 3
   },
   "file_extension": ".py",
   "mimetype": "text/x-python",
   "name": "python",
   "nbconvert_exporter": "python",
   "pygments_lexer": "ipython3",
   "version": "3.8.10"
  }
 },
 "nbformat": 4,
 "nbformat_minor": 5
}
