{
 "cells": [
  {
   "cell_type": "markdown",
   "id": "378b9ba3-ae25-461a-8f27-4f5e97244b67",
   "metadata": {},
   "source": [
    "#### Welcome back!Congratulations for making it this far!"
   ]
  },
  {
   "cell_type": "markdown",
   "id": "b4f3b124-9d47-483a-ab5b-d5929d246e26",
   "metadata": {},
   "source": [
    "This tutorial will show you some correlation analysis betweeen the features of the same solution (water/methanol)"
   ]
  },
  {
   "cell_type": "markdown",
   "id": "248e5330-e29a-4119-89cf-03f7066f00c7",
   "metadata": {},
   "source": [
    "Correlation analysis:\n",
    "- A statistical method which is often used to determine the linear relationship between two features, and compute their dependency.\n",
    "- a dependency between two features can be positive, negative, or zero (uncorrelated).\n",
    "- the strength and direction of the  correlation/dependecy can be summarized using the \"correlation cooficient\""
   ]
  },
  {
   "cell_type": "markdown",
   "id": "098296c7-4bf0-4a3b-acaf-49f8a16ec0a1",
   "metadata": {},
   "source": [
    "### Now let us start"
   ]
  },
  {
   "cell_type": "markdown",
   "id": "e9e71c7d-ae03-44fc-9696-d4169c0357ca",
   "metadata": {},
   "source": [
    "let us retrieve the data from the previous tutorial"
   ]
  },
  {
   "cell_type": "code",
   "execution_count": 1,
   "id": "bb8ec3a0-ccc2-42b2-a724-5c4d9db06f0d",
   "metadata": {},
   "outputs": [],
   "source": [
    "# Nonfermented, fermented, and combined dataframes\n",
    "%store -r df_nf\n",
    "%store -r df_fer\n",
    "%store -r df"
   ]
  },
  {
   "cell_type": "markdown",
   "id": "c71c5897-d359-48d7-b4e6-b1c7a14e01e1",
   "metadata": {},
   "source": [
    "It's a good idea to verify the data in the above data frames (remember the 'head' command)"
   ]
  },
  {
   "cell_type": "code",
   "execution_count": 2,
   "id": "275cb929-ab69-4596-822e-03c6582019d7",
   "metadata": {},
   "outputs": [],
   "source": [
    "#---- code here -----"
   ]
  },
  {
   "cell_type": "markdown",
   "id": "0e32b461-612c-4c7b-b3bf-7a6e4f27841d",
   "metadata": {},
   "source": [
    "For more detailed data analysis, we will need the 'numpy' package from Python. Here we will also use make use of a specially-written function `ellipses.py` which is in the `source` folder. "
   ]
  },
  {
   "cell_type": "code",
   "execution_count": 3,
   "id": "b16c7e57-4b3d-4824-ab25-88de6687a77e",
   "metadata": {},
   "outputs": [],
   "source": [
    "import numpy as np#  'np' is the prefix that will identify nump packages\n",
    "from source.ellipses import draw_Confidence_ellipse # for representing the correlation"
   ]
  },
  {
   "cell_type": "markdown",
   "id": "6a1bbd6c-e572-4129-9283-7566ce8ab4ef",
   "metadata": {},
   "source": [
    "We will represent the data using a scatterplot, and will superimpose <i>confidence ellipses</i> to bring out the general orientation and extent of bivariate data. A confidence ellipse shows where the data is most heavily concentrated (i.e. where the probability density is highest). \n",
    "\n",
    "For more information about confidence ellipses, see "
   ]
  },
  {
   "cell_type": "markdown",
   "id": "fccb22d0-96d5-4c0d-be85-170d5ea23b46",
   "metadata": {},
   "source": [
    "The syntax for the `draw_Confidence_ellipse` command is as follows:\n",
    "\n",
    "     draw_Confidence_ellipse (data1_var1, data1_var2, data2_var1, data2_var2, \n",
    "         \"y-axis label\", \"x-axis label\", \"title\", x-scale, y-scale)\"\n",
    " \n",
    " The above code will draw two confidence ellipses for two different datasets that involve the same pair of variables. \n",
    " \n",
    " * `data1_var1` refers to the data for the first variable for the  first data series\n",
    " * `data1_var2` refers to the data for the second variable for first data series\n",
    " * `data2_var1` refers to the data for the first variable for the  second data series\n",
    " * `data2_var2` refers to the data for the second variable for second data series\n",
    " * `\"y-axis label\", \"x-axis label\", \"title\"` are labels for the graph\n",
    " * `x-scale` is a list of two values giving the lower and upper limit for the x-axis\n",
    " * `y-scale` is a list of two values giving the lower and upper limit for the y-axis\n",
    " \n",
    " \n",
    "You can see that the above command is quite long.  For readability, it is helpful to break the command across several lines. We can do this by inserting the `\\` character at the end of each line. This tells python that the command is not finished, and continues on the next line.\n",
    "\n",
    "Let's give this a try!"
   ]
  },
  {
   "cell_type": "code",
   "execution_count": 5,
   "id": "1bddaa93-410b-4dfc-b53d-65c8f0598f1a",
   "metadata": {},
   "outputs": [
    {
     "ename": "KeyError",
     "evalue": "\"None of [Index(['TPC_MEOH'], dtype='object')] are in the [columns]\"",
     "output_type": "error",
     "traceback": [
      "\u001b[1;31m---------------------------------------------------------------------------\u001b[0m",
      "\u001b[1;31mKeyError\u001b[0m                                  Traceback (most recent call last)",
      "\u001b[1;32m~\\AppData\\Local\\Temp/ipykernel_5392/174096625.py\u001b[0m in \u001b[0;36m<module>\u001b[1;34m\u001b[0m\n\u001b[0;32m      3\u001b[0m \u001b[1;33m\u001b[0m\u001b[0m\n\u001b[0;32m      4\u001b[0m draw_Confidence_ellipse ( \\\n\u001b[1;32m----> 5\u001b[1;33m     \u001b[0mdf_fer\u001b[0m\u001b[1;33m[\u001b[0m\u001b[1;33m[\u001b[0m\u001b[1;34m'TPC_MEOH'\u001b[0m\u001b[1;33m]\u001b[0m\u001b[1;33m]\u001b[0m\u001b[1;33m,\u001b[0m  \u001b[0mdf_fer\u001b[0m\u001b[1;33m[\u001b[0m\u001b[1;33m[\u001b[0m\u001b[1;34m'TEAC_MEOH'\u001b[0m\u001b[1;33m]\u001b[0m\u001b[1;33m]\u001b[0m\u001b[1;33m,\u001b[0m\u001b[0;31m \u001b[0m\u001b[0;31m\\\u001b[0m\u001b[1;33m\u001b[0m\u001b[1;33m\u001b[0m\u001b[0m\n\u001b[0m\u001b[0;32m      6\u001b[0m     \u001b[0mdf_nf\u001b[0m\u001b[1;33m[\u001b[0m\u001b[1;33m[\u001b[0m\u001b[1;34m'TPC_MEOH'\u001b[0m\u001b[1;33m]\u001b[0m\u001b[1;33m]\u001b[0m\u001b[1;33m,\u001b[0m  \u001b[0mdf_nf\u001b[0m\u001b[1;33m[\u001b[0m\u001b[1;33m[\u001b[0m\u001b[1;34m'TEAC_MEOH'\u001b[0m\u001b[1;33m]\u001b[0m\u001b[1;33m]\u001b[0m\u001b[1;33m,\u001b[0m\u001b[0;31m \u001b[0m\u001b[0;31m\\\u001b[0m\u001b[1;33m\u001b[0m\u001b[1;33m\u001b[0m\u001b[0m\n\u001b[0;32m      7\u001b[0m     \u001b[1;34m\"TPC(GAE/g)\"\u001b[0m\u001b[1;33m,\u001b[0m \u001b[1;34m\"TEAC(TE/g)\"\u001b[0m\u001b[1;33m,\u001b[0m\u001b[0;31m \u001b[0m\u001b[0;31m\\\u001b[0m\u001b[1;33m\u001b[0m\u001b[1;33m\u001b[0m\u001b[0m\n",
      "\u001b[1;32m~\\anaconda3\\lib\\site-packages\\pandas\\core\\frame.py\u001b[0m in \u001b[0;36m__getitem__\u001b[1;34m(self, key)\u001b[0m\n\u001b[0;32m   3462\u001b[0m             \u001b[1;32mif\u001b[0m \u001b[0mis_iterator\u001b[0m\u001b[1;33m(\u001b[0m\u001b[0mkey\u001b[0m\u001b[1;33m)\u001b[0m\u001b[1;33m:\u001b[0m\u001b[1;33m\u001b[0m\u001b[1;33m\u001b[0m\u001b[0m\n\u001b[0;32m   3463\u001b[0m                 \u001b[0mkey\u001b[0m \u001b[1;33m=\u001b[0m \u001b[0mlist\u001b[0m\u001b[1;33m(\u001b[0m\u001b[0mkey\u001b[0m\u001b[1;33m)\u001b[0m\u001b[1;33m\u001b[0m\u001b[1;33m\u001b[0m\u001b[0m\n\u001b[1;32m-> 3464\u001b[1;33m             \u001b[0mindexer\u001b[0m \u001b[1;33m=\u001b[0m \u001b[0mself\u001b[0m\u001b[1;33m.\u001b[0m\u001b[0mloc\u001b[0m\u001b[1;33m.\u001b[0m\u001b[0m_get_listlike_indexer\u001b[0m\u001b[1;33m(\u001b[0m\u001b[0mkey\u001b[0m\u001b[1;33m,\u001b[0m \u001b[0maxis\u001b[0m\u001b[1;33m=\u001b[0m\u001b[1;36m1\u001b[0m\u001b[1;33m)\u001b[0m\u001b[1;33m[\u001b[0m\u001b[1;36m1\u001b[0m\u001b[1;33m]\u001b[0m\u001b[1;33m\u001b[0m\u001b[1;33m\u001b[0m\u001b[0m\n\u001b[0m\u001b[0;32m   3465\u001b[0m \u001b[1;33m\u001b[0m\u001b[0m\n\u001b[0;32m   3466\u001b[0m         \u001b[1;31m# take() does not accept boolean indexers\u001b[0m\u001b[1;33m\u001b[0m\u001b[1;33m\u001b[0m\u001b[0m\n",
      "\u001b[1;32m~\\anaconda3\\lib\\site-packages\\pandas\\core\\indexing.py\u001b[0m in \u001b[0;36m_get_listlike_indexer\u001b[1;34m(self, key, axis)\u001b[0m\n\u001b[0;32m   1312\u001b[0m             \u001b[0mkeyarr\u001b[0m\u001b[1;33m,\u001b[0m \u001b[0mindexer\u001b[0m\u001b[1;33m,\u001b[0m \u001b[0mnew_indexer\u001b[0m \u001b[1;33m=\u001b[0m \u001b[0max\u001b[0m\u001b[1;33m.\u001b[0m\u001b[0m_reindex_non_unique\u001b[0m\u001b[1;33m(\u001b[0m\u001b[0mkeyarr\u001b[0m\u001b[1;33m)\u001b[0m\u001b[1;33m\u001b[0m\u001b[1;33m\u001b[0m\u001b[0m\n\u001b[0;32m   1313\u001b[0m \u001b[1;33m\u001b[0m\u001b[0m\n\u001b[1;32m-> 1314\u001b[1;33m         \u001b[0mself\u001b[0m\u001b[1;33m.\u001b[0m\u001b[0m_validate_read_indexer\u001b[0m\u001b[1;33m(\u001b[0m\u001b[0mkeyarr\u001b[0m\u001b[1;33m,\u001b[0m \u001b[0mindexer\u001b[0m\u001b[1;33m,\u001b[0m \u001b[0maxis\u001b[0m\u001b[1;33m)\u001b[0m\u001b[1;33m\u001b[0m\u001b[1;33m\u001b[0m\u001b[0m\n\u001b[0m\u001b[0;32m   1315\u001b[0m \u001b[1;33m\u001b[0m\u001b[0m\n\u001b[0;32m   1316\u001b[0m         if needs_i8_conversion(ax.dtype) or isinstance(\n",
      "\u001b[1;32m~\\anaconda3\\lib\\site-packages\\pandas\\core\\indexing.py\u001b[0m in \u001b[0;36m_validate_read_indexer\u001b[1;34m(self, key, indexer, axis)\u001b[0m\n\u001b[0;32m   1372\u001b[0m                 \u001b[1;32mif\u001b[0m \u001b[0muse_interval_msg\u001b[0m\u001b[1;33m:\u001b[0m\u001b[1;33m\u001b[0m\u001b[1;33m\u001b[0m\u001b[0m\n\u001b[0;32m   1373\u001b[0m                     \u001b[0mkey\u001b[0m \u001b[1;33m=\u001b[0m \u001b[0mlist\u001b[0m\u001b[1;33m(\u001b[0m\u001b[0mkey\u001b[0m\u001b[1;33m)\u001b[0m\u001b[1;33m\u001b[0m\u001b[1;33m\u001b[0m\u001b[0m\n\u001b[1;32m-> 1374\u001b[1;33m                 \u001b[1;32mraise\u001b[0m \u001b[0mKeyError\u001b[0m\u001b[1;33m(\u001b[0m\u001b[1;34mf\"None of [{key}] are in the [{axis_name}]\"\u001b[0m\u001b[1;33m)\u001b[0m\u001b[1;33m\u001b[0m\u001b[1;33m\u001b[0m\u001b[0m\n\u001b[0m\u001b[0;32m   1375\u001b[0m \u001b[1;33m\u001b[0m\u001b[0m\n\u001b[0;32m   1376\u001b[0m             \u001b[0mnot_found\u001b[0m \u001b[1;33m=\u001b[0m \u001b[0mlist\u001b[0m\u001b[1;33m(\u001b[0m\u001b[0mensure_index\u001b[0m\u001b[1;33m(\u001b[0m\u001b[0mkey\u001b[0m\u001b[1;33m)\u001b[0m\u001b[1;33m[\u001b[0m\u001b[0mmissing_mask\u001b[0m\u001b[1;33m.\u001b[0m\u001b[0mnonzero\u001b[0m\u001b[1;33m(\u001b[0m\u001b[1;33m)\u001b[0m\u001b[1;33m[\u001b[0m\u001b[1;36m0\u001b[0m\u001b[1;33m]\u001b[0m\u001b[1;33m]\u001b[0m\u001b[1;33m.\u001b[0m\u001b[0munique\u001b[0m\u001b[1;33m(\u001b[0m\u001b[1;33m)\u001b[0m\u001b[1;33m)\u001b[0m\u001b[1;33m\u001b[0m\u001b[1;33m\u001b[0m\u001b[0m\n",
      "\u001b[1;31mKeyError\u001b[0m: \"None of [Index(['TPC_MEOH'], dtype='object')] are in the [columns]\""
     ]
    }
   ],
   "source": [
    "# Notice the '\\' at the end of each line, which tells python that the command\n",
    "# continues on the next line.\n",
    "\n",
    "draw_Confidence_ellipse ( \\\n",
    "    df_fer[['TPC_MEOH']],  df_fer[['TEAC_MEOH']], \\\n",
    "    df_nf[['TPC_MEOH']],  df_nf[['TEAC_MEOH']], \\\n",
    "    \"TPC(GAE/g)\", \"TEAC(TE/g)\", \\\n",
    "    \"TEAC versus TP for $MeOH$ extracted samples\", \\\n",
    "    [100, 550], [1000,5550] )\n"
   ]
  },
  {
   "cell_type": "markdown",
   "id": "987f9691-fb20-47ce-964b-a1bdeb686fb9",
   "metadata": {},
   "source": [
    "The results show there is a statistically significant positive correlation between TPC and TEAC for fermented (blue). This is reflected in the tilted orientation of the ellipse. On the other hand, the correlation between TPC and TEAC for unfermented is not statistically signficant (p > 0.05). "
   ]
  },
  {
   "cell_type": "markdown",
   "id": "05c98de4-46e0-4bda-ab72-c2845710f5cd",
   "metadata": {},
   "source": [
    "Now let's do the same thing for TPC vs FRAP using the methanol solvent:"
   ]
  },
  {
   "cell_type": "code",
   "execution_count": null,
   "id": "58fabc54-1730-412a-b033-686dd94ab06b",
   "metadata": {},
   "outputs": [],
   "source": [
    "draw_Confidence_ellipse (\n",
    "    df_fer[['TPC_MEOH']], df_fer[['FRAP_MEOH']], \n",
    "    df_nf[['TPC_MEOH']], df_nf[['FRAP_MEOH']], \n",
    "    \"TPC(GAE/g)\", \"FRAP(AAE/g)\", \n",
    "    \"FRAP versus TP for $MeOH$ extracted samples\", \n",
    "    [100, 550], [1000,5550] )"
   ]
  },
  {
   "cell_type": "markdown",
   "id": "67a6cd2a-8257-4800-b0f7-293ab89174b2",
   "metadata": {},
   "source": [
    "Question: What do the numerical results indicate about the correlations?\n",
    "\n",
    "Evidently the y-scale is off, so we will need to change the scale.  To do this, we find the min an max values for FRAP"
   ]
  },
  {
   "cell_type": "code",
   "execution_count": null,
   "id": "07957ade-ccd8-47a4-b9dd-90ef3f3dd7f3",
   "metadata": {},
   "outputs": [],
   "source": [
    "print(\"FRAP min (fer): \" +str( np.array(df_fer[['FRAP_MEOH']]).min()) )\n",
    "print(\"FRAP min (nf): \" +str( np.array(df_nf[['FRAP_MEOH']]).min()) )\n",
    "print()\n",
    "print(\"FRAP max (fer): \" +str( np.array(df_fer[['FRAP_MEOH']]).max()) )\n",
    "print(\"FRAP max (nf): \" +str( np.array(df_nf[['FRAP_MEOH']]).max()) )"
   ]
  },
  {
   "cell_type": "markdown",
   "id": "e69cc3c6-1aef-4072-92c8-b4a6de908820",
   "metadata": {},
   "source": [
    "_Exercise:_ Based on the above results, change the y scale so that both ellipses are contained in the plot. "
   ]
  },
  {
   "cell_type": "code",
   "execution_count": null,
   "id": "9fa17521-d941-4587-bd7f-d7e3eaa75ca8",
   "metadata": {},
   "outputs": [],
   "source": [
    "# (Put your code here)"
   ]
  },
  {
   "cell_type": "markdown",
   "id": "be5708f7-e418-42fd-8e52-31ff12c2af29",
   "metadata": {},
   "source": [
    "_Exercise_ Create scatter & confidence ellipse plots for  the remaining variable comparison for MeOH, and for the three variable comparisons for extracts using water (H2O) as solvent."
   ]
  }
 ],
 "metadata": {
  "kernelspec": {
   "display_name": "Python 3 (ipykernel)",
   "language": "python",
   "name": "python3"
  },
  "language_info": {
   "codemirror_mode": {
    "name": "ipython",
    "version": 3
   },
   "file_extension": ".py",
   "mimetype": "text/x-python",
   "name": "python",
   "nbconvert_exporter": "python",
   "pygments_lexer": "ipython3",
   "version": "3.9.7"
  }
 },
 "nbformat": 4,
 "nbformat_minor": 5
}
