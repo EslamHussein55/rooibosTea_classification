{
 "cells": [
  {
   "cell_type": "markdown",
   "id": "378b9ba3-ae25-461a-8f27-4f5e97244b67",
   "metadata": {},
   "source": [
    "#### Welcome back!Congratulations for making it this far!"
   ]
  },
  {
   "cell_type": "markdown",
   "id": "b4f3b124-9d47-483a-ab5b-d5929d246e26",
   "metadata": {},
   "source": [
    "This tutorial will show you some correlation analysis betweeen the features of the same solution (water/methanol)"
   ]
  },
  {
   "cell_type": "markdown",
   "id": "248e5330-e29a-4119-89cf-03f7066f00c7",
   "metadata": {},
   "source": [
    "Correlation analysis:\n",
    "- A statistical method which is often used to determine the linear relationship between two features, and compute their dependency.\n",
    "- a dependency between two features can be positive, negative, or zero (uncorrelated).\n",
    "- the strength and direction of the  correlation/dependecy can be summarized using the \"correlation cooficient\""
   ]
  },
  {
   "cell_type": "markdown",
   "id": "098296c7-4bf0-4a3b-acaf-49f8a16ec0a1",
   "metadata": {},
   "source": [
    "### Now let us start"
   ]
  },
  {
   "cell_type": "markdown",
   "id": "e9e71c7d-ae03-44fc-9696-d4169c0357ca",
   "metadata": {},
   "source": [
    "let us retrieve the data from the previous tutorial"
   ]
  },
  {
   "cell_type": "code",
   "execution_count": null,
   "id": "bb8ec3a0-ccc2-42b2-a724-5c4d9db06f0d",
   "metadata": {},
   "outputs": [],
   "source": [
    "# Nonfermented, fermented, and combined dataframes\n",
    "%store -r df_nf\n",
    "%store -r df_fer\n",
    "%store -r df"
   ]
  },
  {
   "cell_type": "markdown",
   "id": "c71c5897-d359-48d7-b4e6-b1c7a14e01e1",
   "metadata": {},
   "source": [
    "It's a good idea to verify the data in the above data frames (remember the 'head' command)"
   ]
  },
  {
   "cell_type": "code",
   "execution_count": null,
   "id": "275cb929-ab69-4596-822e-03c6582019d7",
   "metadata": {},
   "outputs": [],
   "source": [
    "#---- code here -----"
   ]
  },
  {
   "cell_type": "markdown",
   "id": "0e32b461-612c-4c7b-b3bf-7a6e4f27841d",
   "metadata": {},
   "source": [
    "For more detailed data analysis, we will need the 'numpy' package, plus a specialized package that can draw confidence ellipses (explained below). "
   ]
  },
  {
   "cell_type": "code",
   "execution_count": null,
   "id": "b16c7e57-4b3d-4824-ab25-88de6687a77e",
   "metadata": {},
   "outputs": [],
   "source": [
    "import numpy as np#  'np' is the prefix that will identify nump packages\n",
    "from source.ellipses import draw_Confidence_ellipse # for representing the correlation"
   ]
  },
  {
   "cell_type": "markdown",
   "id": "6a1bbd6c-e572-4129-9283-7566ce8ab4ef",
   "metadata": {},
   "source": [
    "We will represent the data using a scatterplot, and will superimpose confidence ellipses to bring out the general orientation and extent of the data. A confidence ellipse shows where the data is most heavily concentrated (i.e. where the probability density is highest).  Confidence regions are used for predicting new observations with a certain degree of confidence, which depends on the confidence parameter (measured in standard deviations) used to generate the ellipse. "
   ]
  },
  {
   "cell_type": "markdown",
   "id": "fccb22d0-96d5-4c0d-be85-170d5ea23b46",
   "metadata": {},
   "source": [
    "The syntax for the `draw_Confidence_ellipse` command is as follows:\n",
    "\n",
    "     draw_Confidence_ellipse (data1_x, data1_y, data2_x, data2_y, \n",
    "         \"y-axis label\", \"x-axis label\", \"title\", x-scale, y-scale)\"\n",
    "         \n",
    "Notice that we can continue Python commands on multiple lines, as long as we make break the statement in such a way that the Python compiler can see that the command is not yet finished (e.g. by breaking the statement after an open parenthesis or comma).\n",
    "\n",
    "Let's give this a try!"
   ]
  },
  {
   "cell_type": "code",
   "execution_count": null,
   "id": "1bddaa93-410b-4dfc-b53d-65c8f0598f1a",
   "metadata": {},
   "outputs": [],
   "source": [
    "draw_Confidence_ellipse ( \n",
    "    df_fer[['TPC_MEOH']],  df_fer[['TEAC_MEOH']],  \n",
    "    df_nf[['TPC_MEOH']],  df_nf[['TEAC_MEOH']], \n",
    "    \"TPC(GAE/g)\", \"TEAC(TE/g)\", \n",
    "    \"TEAC versus TP for $MeOH$ extracted samples\",\n",
    "    [100, 550], [1000,5550] )\n"
   ]
  },
  {
   "cell_type": "markdown",
   "id": "987f9691-fb20-47ce-964b-a1bdeb686fb9",
   "metadata": {},
   "source": [
    "The results show there is a statistically significant positive correlation between TPC and TEAC for fermented (blue). This is reflected in the tilted orientation of the ellipse. On the other hand, the correlation between TPC and TEAC for unfermented is not statistically signficant (p > 0.05). "
   ]
  },
  {
   "cell_type": "markdown",
   "id": "05c98de4-46e0-4bda-ab72-c2845710f5cd",
   "metadata": {},
   "source": [
    "Now let's do the same thing for TPC vs FRAP using the methanol solvent:"
   ]
  },
  {
   "cell_type": "code",
   "execution_count": null,
   "id": "58fabc54-1730-412a-b033-686dd94ab06b",
   "metadata": {},
   "outputs": [],
   "source": [
    "draw_Confidence_ellipse (\n",
    "    df_fer[['TPC_MEOH']], df_fer[['FRAP_MEOH']], \n",
    "    df_nf[['TPC_MEOH']], df_nf[['FRAP_MEOH']], \n",
    "    \"TPC(GAE/g)\", \"FRAP(AAE/g)\", \n",
    "    \"FRAP versus TP for $MeOH$ extracted samples\", \n",
    "    [100, 550], [1000,5550] )"
   ]
  },
  {
   "cell_type": "markdown",
   "id": "67a6cd2a-8257-4800-b0f7-293ab89174b2",
   "metadata": {},
   "source": [
    "Question: What do the numerical results indicate about the correlations?\n",
    "\n",
    "Evidently the y-scale is off, so we will need to change the scale.  To do this, we find the min an max values for FRAP"
   ]
  },
  {
   "cell_type": "code",
   "execution_count": null,
   "id": "07957ade-ccd8-47a4-b9dd-90ef3f3dd7f3",
   "metadata": {},
   "outputs": [],
   "source": [
    "print(\"FRAP min (fer): \" +str( np.array(df_fer[['FRAP_MEOH']]).min()) )\n",
    "print(\"FRAP min (nf): \" +str( np.array(df_nf[['FRAP_MEOH']]).min()) )\n",
    "print()\n",
    "print(\"FRAP max (fer): \" +str( np.array(df_fer[['FRAP_MEOH']]).max()) )\n",
    "print(\"FRAP max (nf): \" +str( np.array(df_nf[['FRAP_MEOH']]).max()) )"
   ]
  },
  {
   "cell_type": "markdown",
   "id": "e69cc3c6-1aef-4072-92c8-b4a6de908820",
   "metadata": {},
   "source": [
    "_Exercise:_ Based on the above results, change the y scale so that both ellipses are contained in the plot. "
   ]
  },
  {
   "cell_type": "code",
   "execution_count": null,
   "id": "9fa17521-d941-4587-bd7f-d7e3eaa75ca8",
   "metadata": {},
   "outputs": [],
   "source": [
    "# (Put your code here)"
   ]
  },
  {
   "cell_type": "markdown",
   "id": "be5708f7-e418-42fd-8e52-31ff12c2af29",
   "metadata": {},
   "source": [
    "_Exercise_ Create scatter & confidence ellipse plots for  the remaining variable comparison for MeOH, and for the three variable comparisons for extracts using water (H2O) as solvent."
   ]
  }
 ],
 "metadata": {
  "kernelspec": {
   "display_name": "Python 3 (ipykernel)",
   "language": "python",
   "name": "python3"
  },
  "language_info": {
   "codemirror_mode": {
    "name": "ipython",
    "version": 3
   },
   "file_extension": ".py",
   "mimetype": "text/x-python",
   "name": "python",
   "nbconvert_exporter": "python",
   "pygments_lexer": "ipython3",
   "version": "3.9.7"
  }
 },
 "nbformat": 4,
 "nbformat_minor": 5
}
