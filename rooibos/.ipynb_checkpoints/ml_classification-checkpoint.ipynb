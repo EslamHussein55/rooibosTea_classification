{
 "cells": [
  {
   "cell_type": "markdown",
   "metadata": {},
   "source": [
    "### Hello, and welcome to the last and final practical"
   ]
  },
  {
   "cell_type": "markdown",
   "metadata": {},
   "source": [
    "This tut will show you how to do the following:\n",
    " - How to use machine learning (logistic regression, and random forest) tools with some parameter optimization to classify rooibos tea\n",
    " - how to compare those methods against each other using jackknife and the baseline\n",
    " - how to use dictionaries in python"
   ]
  },
  {
   "cell_type": "code",
   "execution_count": 1,
   "metadata": {},
   "outputs": [],
   "source": [
    "from sklearn.linear_model import LogisticRegression\n",
    "from sklearn.ensemble import RandomForestClassifier\n",
    "import numpy as np\n",
    "from source.ml_acc import get_accuracy_ml #importing the ml_accuracy code from source ml_acc file\n",
    "import matplotlib.pyplot as plt\n",
    "import pandas as pd\n",
    "from sklearn.model_selection import train_test_split\n",
    "from source.calculate_jack import jack_SD # importing the baseline code from source.basline file\n",
    "\n",
    "%store -r df\n",
    "%store -r base_dict \n",
    "# will be used for the difference"
   ]
  },
  {
   "cell_type": "markdown",
   "metadata": {},
   "source": [
    "### define hyper parameter for the ML methods"
   ]
  },
  {
   "cell_type": "code",
   "execution_count": 9,
   "metadata": {},
   "outputs": [
    {
     "name": "stdout",
     "output_type": "stream",
     "text": [
      "range(10, 50, 10)\n"
     ]
    }
   ],
   "source": [
    "## logisitc regression (LR)\n",
    "solvers = ['newton-cg', 'lbfgs', 'liblinear']\n",
    "penalty = ['l2']\n",
    "c_values = [1000, 100, 10, 1.0, 0.1, 0.01, 0.001]\n",
    "\n",
    "lr = LogisticRegression()\n",
    "lr_par = dict(solver=solvers,penalty=penalty,C=c_values)\n",
    "\n",
    "## random forest (RF)\n",
    "\n",
    "n_estimators = range(10, 50, 10)\n",
    "print(n_estimators)\n",
    "rf = RandomForestClassifier(random_state=1)\n",
    "rf_par = dict(n_estimators=n_estimators)"
   ]
  },
  {
   "cell_type": "code",
   "execution_count": 10,
   "metadata": {},
   "outputs": [],
   "source": [
    "# models = [[rf, 'rf'], [lr, 'lr']]\n",
    "# parameters = [rf_par, lr_par]\n",
    "models = [[rf, 'rf']]\n",
    "\n",
    "parameters = [rf_par]"
   ]
  },
  {
   "cell_type": "code",
   "execution_count": 11,
   "metadata": {},
   "outputs": [],
   "source": [
    "y = df[['type']]\n",
    "features = [ ['TPC_H2O'], ['TEAC_H2O'],  ['FRAP_H2O'], ['TPC_H2O', 'TEAC_H2O']]\n",
    "splits = [0.4]"
   ]
  },
  {
   "cell_type": "code",
   "execution_count": 12,
   "metadata": {},
   "outputs": [
    {
     "name": "stdout",
     "output_type": "stream",
     "text": [
      "[{}]\n"
     ]
    }
   ],
   "source": [
    "num_ml_tools = len(parameters)\n",
    "ml_dicts = [{}]*num_ml_tools\n",
    "print(ml_dicts)"
   ]
  },
  {
   "cell_type": "code",
   "execution_count": 13,
   "metadata": {},
   "outputs": [],
   "source": [
    "for m, par, d in zip(models, parameters, ml_dicts):\n",
    "    for s in splits:\n",
    "        X_train, X_test, y_train, y_test = train_test_split(df, y, test_size= s, random_state=1, stratify = y, shuffle = True)\n",
    "\n",
    "        for f in features:\n",
    "            xtr =  X_train[f]\n",
    "            xte =  X_test[f]\n",
    "            results = get_accuracy_ml (m[0], par, xtr, y_train, xte, y_test) # to get the accuracies for the ml model\n",
    "\n",
    "            key = str(s)+\",\"+str(f)\n",
    "\n",
    "            d[key] = {}\n",
    "            d[key]['tot_acc'] = results[0]\n",
    "            d[key]['jack_train'] = results[1]\n",
    "            d[key]['jack_test'] = results[2]"
   ]
  },
  {
   "cell_type": "code",
   "execution_count": null,
   "metadata": {},
   "outputs": [],
   "source": []
  },
  {
   "cell_type": "code",
   "execution_count": 14,
   "metadata": {},
   "outputs": [
    {
     "name": "stdout",
     "output_type": "stream",
     "text": [
      "dict_keys([\"0.4,['TPC_H2O']\", \"0.4,['TEAC_H2O']\", \"0.4,['FRAP_H2O']\", \"0.4,['TPC_H2O', 'TEAC_H2O']\"])\n",
      "0.4,['TPC_H2O']\n",
      "dict_keys(['tot_acc', 'jack_train', 'jack_test'])\n",
      "0.55\n"
     ]
    }
   ],
   "source": [
    "for d in ml_dicts: # a for loop in case we have more than one model\n",
    "    print(d.keys())\n",
    "    key = list(d.keys())[0] # prints the general keys\n",
    "    print(key)\n",
    "    print( d[key].keys() ) # prints the nested keys inside the first key\n",
    "    print(d[key]['tot_acc']) # prints the info of the nested key, which is 'tot_acc'"
   ]
  },
  {
   "cell_type": "markdown",
   "metadata": {},
   "source": [
    "### now let us draw the accuracy with the SD"
   ]
  },
  {
   "cell_type": "code",
   "execution_count": 15,
   "metadata": {},
   "outputs": [
    {
     "name": "stdout",
     "output_type": "stream",
     "text": [
      "0.4,['TPC_H2O']: 0.55\n",
      "0.12566820395262832\n",
      "\n",
      "0.4,['TEAC_H2O']: 0.55\n",
      "0.15890069601656445\n",
      "\n",
      "0.4,['FRAP_H2O']: 0.6\n",
      "0.17099766572376984\n",
      "\n",
      "0.4,['TPC_H2O', 'TEAC_H2O']: 0.8\n",
      "0.23027959898821707\n",
      "\n"
     ]
    },
    {
     "data": {
      "image/png": "[encoded data removed]",
      "text/plain": [
       "<Figure size 720x504 with 1 Axes>"
      ]
     },
     "metadata": {
      "needs_background": "light"
     },
     "output_type": "display_data"
    }
   ],
   "source": [
    "for m, d in zip (models, ml_dicts):\n",
    "    acc_arr = [] \n",
    "    sd_arr = [] \n",
    "\n",
    "\n",
    "    for key in d.keys():\n",
    "\n",
    "        print( str(key)+\": \"+str(d[key][ 'tot_acc' ] ))\n",
    "        acc_arr.append(d[key][ 'tot_acc' ]) # append total accuracy to an array\n",
    "        sd_train = jack_SD(np.zeros( len(d[key][ 'jack_train' ]) ), d[key][ 'jack_train' ])[0]\n",
    "        sd_test = jack_SD(np.zeros( len(d[key][ 'jack_test' ]) ), d[key][ 'jack_test' ])[0]\n",
    "        sd = np.sqrt( np.array((sd_train**2)) + np.array((sd_test**2)))\n",
    "        sd_arr.append(sd) # append sd_arr to an array\n",
    "        print(sd)\n",
    "        print()\n",
    "    plt.figure(figsize=(10 , 7))\n",
    "    plt.title( \"Accuracies for different features with the SD\", fontweight ='bold', fontsize =12)\n",
    "    plt.xlabel(\"Features\", fontweight ='bold', fontsize =12)\n",
    "    plt.ylabel(\"Accuracy\", fontweight ='bold', fontsize =12)\n",
    "    plt.errorbar( list(d.keys()), acc_arr, sd_arr, fmt='o')\n"
   ]
  },
  {
   "cell_type": "markdown",
   "metadata": {},
   "source": [
    "### SD difference"
   ]
  },
  {
   "cell_type": "code",
   "execution_count": 16,
   "metadata": {},
   "outputs": [
    {
     "name": "stdout",
     "output_type": "stream",
     "text": [
      "0.4,['TPC_H2O']: 0.0\n",
      "0.16943310710833248\n",
      "\n",
      "0.4,['TEAC_H2O']: -0.125\n",
      "0.19728290944255844\n",
      "\n",
      "0.4,['FRAP_H2O']: -0.15000000000000002\n",
      "0.35103687096293823\n",
      "\n",
      "0.4,['TPC_H2O', 'TEAC_H2O']: -0.04999999999999993\n",
      "0.23235798280178055\n",
      "\n"
     ]
    },
    {
     "data": {
      "image/png": "[encoded data removed]",
      "text/plain": [
       "<Figure size 720x504 with 1 Axes>"
      ]
     },
     "metadata": {
      "needs_background": "light"
     },
     "output_type": "display_data"
    }
   ],
   "source": [
    "for m, d in zip (models, ml_dicts):\n",
    "    acc_diff_arr = [] \n",
    "    sd_diff_arr = [] \n",
    "\n",
    "\n",
    "    for key in d.keys():\n",
    "\n",
    "        print( str(key)+\": \"+str(d[key][ 'tot_acc' ] - base_dict[key][ 'tot_acc' ]))\n",
    "        acc_diff_arr.append(d[key][ 'tot_acc' ] - base_dict[key][ 'tot_acc' ]) # append total accuracy to an array\n",
    "        sd_train_diff = jack_SD( base_dict[key][ 'jack_train' ]  , d[key][ 'jack_train' ])[0]\n",
    "        sd_test_diff =  jack_SD(  base_dict[key][ 'jack_test' ]  , d[key][ 'jack_test' ])[0]\n",
    "        sd_diff = np.sqrt( np.array((sd_train_diff**2)) + np.array((sd_test_diff**2)))\n",
    "        sd_diff_arr.append(sd_diff) # append sd_arr to an array\n",
    "        \n",
    "        print(sd_diff)\n",
    "        print()\n",
    "    plt.figure(figsize=(10 , 7))\n",
    "    plt.title(\"Accuracy differences for \"+m[1]+\" method versus baseline for feature sets\", fontweight ='bold', fontsize =14)\n",
    "    plt.errorbar( list(d.keys()), acc_diff_arr, sd_diff_arr, fmt='o')\n"
   ]
  },
  {
   "cell_type": "code",
   "execution_count": null,
   "metadata": {},
   "outputs": [],
   "source": []
  },
  {
   "cell_type": "markdown",
   "metadata": {},
   "source": [
    "### Now do it now with more models, and features. thanks and good luck"
   ]
  },
  {
   "cell_type": "markdown",
   "metadata": {},
   "source": [
    "### also you can explore with more data set (privde links (E.H))"
   ]
  },
  {
   "cell_type": "code",
   "execution_count": null,
   "metadata": {},
   "outputs": [],
   "source": []
  }
 ],
 "metadata": {
  "kernelspec": {
   "display_name": "Python 3",
   "language": "python",
   "name": "python3"
  },
  "language_info": {
   "codemirror_mode": {
    "name": "ipython",
    "version": 3
   },
   "file_extension": ".py",
   "mimetype": "text/x-python",
   "name": "python",
   "nbconvert_exporter": "python",
   "pygments_lexer": "ipython3",
   "version": "3.8.3"
  }
 },
 "nbformat": 4,
 "nbformat_minor": 5
}
